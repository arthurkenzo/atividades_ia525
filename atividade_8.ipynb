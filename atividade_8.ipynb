{
 "cells": [
  {
   "cell_type": "markdown",
   "id": "26ca233c",
   "metadata": {},
   "source": [
    "Código disponível [na minha página do Github](https://github.com/arthurkenzo/atividades_ia525)"
   ]
  },
  {
   "cell_type": "code",
   "execution_count": 2,
   "id": "786af33d",
   "metadata": {},
   "outputs": [],
   "source": [
    "import cvxpy as cp\n",
    "import numpy as np\n",
    "import pandas as pd\n",
    "import mosek\n",
    "import matplotlib.pyplot as plt\n",
    "import matplotlib.cm as cm\n",
    "import time\n",
    "import networkx as nx\n",
    "import random\n",
    "\n",
    "\n",
    "from typing import Tuple\n",
    "from itertools import product"
   ]
  },
  {
   "cell_type": "markdown",
   "id": "3648b7f0",
   "metadata": {},
   "source": [
    "• As aulas do curso são realizadas de segunda-feira a quinta-feira, das 19h às 23h.\n",
    "\n",
    "• Duas turmas são conduzidas em paralelo ao longo do curso em cada ano.\n",
    "\n",
    "• Em cada turma, os horários são fixos: as aulas de cada disciplina ocorrem sempre no mesmo dia da semana\n",
    "para uma mesma turma. Note que turmas diferentes podem ter a mesma disciplina em dias diferentes.\n",
    "\n",
    "• Em cada turma, cada dia de aula está associado a uma das disciplinas do curso: matemática, português, quı́mica\n",
    "e fı́sica. Cada turma deve ter uma aula de cada disciplina.\n",
    "\n",
    "• Cada dia de aula está dividido em dois blocos: aula teórica (19h-21h) e aula de exercı́cios (21h-23h).\n",
    "\n",
    "• Os voluntários são selecionados por meio de processo especı́fico e são distribuı́dos em três papeis:\n",
    "– Professor de teoria: responsável pela aula teórica de cada disciplina.\n",
    "– Professor de exercı́cios: responsável pela aula de exercı́cios de cada disciplina.\n",
    "– Monitor: responsável por apoiar o professor de exercı́cios na sua aula.\n",
    "\n",
    "• A equipe de cada disciplina conta com dois professores de exercı́cios, dois professores de teoria e monitores\n",
    "que devem ser alocados nos horários e distribuı́dos entre as turmas. Para uma mesma disciplina, o número de\n",
    "monitores distribuı́dos entre as turmas deve ser aproximadamente igual. Cada turma fica com um professor de\n",
    "cada tipo.\n",
    "\n",
    "• A equipe de português é menor do que as demais. Assim, nas aulas de português, as duas turmas são unidas\n",
    "em uma sala. Neste caso, ambos os professores de teoria podem trabalhar como professor de exercı́cios ou\n",
    "monitor no segundo horário de aula. Nas demais disciplinas, cada voluntário atua em, no máximo, uma turma."
   ]
  },
  {
   "cell_type": "markdown",
   "id": "e2d08279",
   "metadata": {},
   "source": [
    "\\begin{align*}\n",
    "    \\text{Variáveis de decisão:} \\quad &  x_{ijk}\\in\\mathbb{B} \\hspace{20pt} \\text{(Alocar voluntário } i \\text{ no dia } j \\text{ e horário }k\\text{)} \\\\\n",
    "                                 \\quad &  y_{lm}\\in\\mathbb{B}  \\hspace{20pt} \\text{(Alocar disciplina } l \\text{ no dia } m \\text{)} \\\\\n",
    "\n",
    "    \\text{Encontrar }   & \\sum_{ij} c_{ij}x_{ij}\\\\\n",
    "\n",
    "    \\text{sujeito a }   & \\sum_{jk} x_{ijk} = 1 \\quad \\forall  i  \\hspace{20pt} \\text{(Alocar apenas um horário para cada voluntário)} \\\\\n",
    "                        & \\sum_{i} x_{ijk} = 1 \\quad \\forall  j,k  \\hspace{20pt} \\text{(Alocar apenas um voluntário em cada horário)} \\\\\n",
    "\n",
    "                        & \\sum_{m} y_{lm} \\quad \\forall l  \\hspace{20pt} \\text{(Apenas uma disciplina para cada dia)} \\\\\n",
    "\\end{align*}"
   ]
  },
  {
   "cell_type": "code",
   "execution_count": 88,
   "id": "041ffc0f",
   "metadata": {},
   "outputs": [
    {
     "name": "stdout",
     "output_type": "stream",
     "text": [
      "Pre-processed DataFrame:\n",
      "    area     cargo  seg19  seg21  ter19  ter21  qua19  qua21  qui19  qui21\n",
      "v0  mat  p_teoria    0.0    1.0    0.0    1.0    1.0    0.0    1.0    0.0\n",
      "v1  mat   monitor    0.0    1.0    0.0    0.0    0.0    0.0    0.0    0.0\n",
      "v2  mat   monitor    0.0    1.0    0.0    1.0    0.0    0.0    1.0    0.0\n",
      "v3  mat   monitor    0.0    0.0    1.0    1.0    0.0    0.0    1.0    1.0\n",
      "v4  mat   monitor    0.0    0.0    0.0    0.0    1.0    1.0    0.0    0.0\n"
     ]
    }
   ],
   "source": [
    "# loading dataset into a pandas dataframe\n",
    "availab = pd.read_csv('dados_exato.csv')\n",
    "# fill empty cells with zeros\n",
    "availab.fillna(0, inplace=True)\n",
    "# index entries with strings\n",
    "availab.index = [f'v{i}' for i in range(len(availab))]\n",
    "\n",
    "pd.set_option('display.expand_frame_repr', False) \n",
    "print(\"Pre-processed DataFrame:\\n\", availab.head())\n"
   ]
  },
  {
   "cell_type": "code",
   "execution_count": 89,
   "id": "a53933f6",
   "metadata": {},
   "outputs": [],
   "source": [
    "subjects = ['port', 'mat', 'fis', 'quim']\n",
    "days = ['seg', 'ter', 'qua', 'qui']\n",
    "shifts = ['19', '21']\n",
    "groups = ['1', '2']\n",
    "voluntiers = [f'v{i}' for i in range(len(availab))]\n",
    "\n",
    "# create a dictionary with subjects as keys and voluntiers as values\n",
    "voluntiersBySubject = {}\n",
    "for subject in subjects:\n",
    "    voluntiersBySubject[subject] = availab[availab['area'] == subject].index.tolist()\n",
    "\n",
    "theoryProfs = availab[availab['cargo'] == 'p_teoria'].index.tolist()\n",
    "practiceProfs = availab[availab['cargo'] == 'p_exerc'].index.tolist()\n",
    "assistants = availab[availab['cargo'] == 'monitor'].index.tolist()\n",
    "practiceVoluntiers = practiceProfs + assistants"
   ]
  },
  {
   "cell_type": "code",
   "execution_count": 94,
   "id": "befa0899",
   "metadata": {},
   "outputs": [
    {
     "name": "stdout",
     "output_type": "stream",
     "text": [
      "Variáveis geradas: 216\n"
     ]
    }
   ],
   "source": [
    "nbVars = 0\n",
    "# generate dictionary for indexing decision variables\n",
    "allocationVars = {}\n",
    "for voluntier in voluntiers:\n",
    "    allocationVars[voluntier] = {}\n",
    "\n",
    "    for day in days:\n",
    "        allocationVars[voluntier][day] = {}\n",
    "\n",
    "        for shift in shifts:\n",
    "            allocationVars[voluntier][day][shift] = {}\n",
    "\n",
    "            for group in groups:\n",
    "                # do not create variables for theory profs on the second shift\n",
    "                if shift == '21' and voluntier in theoryProfs:\n",
    "                    break\n",
    "                # do not create variables for practice profs and assistants on the first shift\n",
    "                if shift == '19' and (voluntier in practiceVoluntiers):\n",
    "                    break\n",
    "                # generate variables only for feasible hours based on availability table\n",
    "                if availab.loc[voluntier, day+shift] == 1:\n",
    "                    allocationVars[voluntier][day][shift][group] = cp.Variable(boolean=True, name=f'aloc_{voluntier}_{day}_{shift}_{group}')\n",
    "                    nbVars += 1\n",
    "\n",
    "subjectIndicators = {}\n",
    "for subject in subjects:\n",
    "    subjectIndicators[subject] = {}\n",
    "    for day in days:\n",
    "        subjectIndicators[subject][day] = {}\n",
    "        for group in groups:\n",
    "            subjectIndicators[subject][day][group] = cp.Variable(boolean=True, name=f'indic_{subject}_{day}_{group}')\n",
    "\n",
    "\n",
    "print(f\"Variáveis geradas: {nbVars}\")\n"
   ]
  },
  {
   "cell_type": "code",
   "execution_count": 100,
   "id": "f5524e89",
   "metadata": {},
   "outputs": [],
   "source": [
    "def CollectNestedValues(d, target_key):\n",
    "    results = []\n",
    "    if isinstance(d, dict):\n",
    "        for k, v in d.items():\n",
    "            if k == target_key:\n",
    "                results.append(v)\n",
    "            if isinstance(v, dict):\n",
    "                results.extend(CollectNestedValues(v, target_key))\n",
    "            elif isinstance(v, list):\n",
    "                for item in v:\n",
    "                    results.extend(CollectNestedValues(item, target_key))\n",
    "    return results\n",
    "\n",
    "def GetAllValuesByKey(nestedDict, targetKey):\n",
    "    results = []\n",
    "    if isinstance(nestedDict, dict):\n",
    "        for key, value in nestedDict.items():\n",
    "            if key == targetKey:\n",
    "                results.append(value)\n",
    "            if isinstance(value, dict):\n",
    "                results.extend(GetAllValuesByKey(value, targetKey))\n",
    "            elif isinstance(value, list):\n",
    "                for item in value:\n",
    "                    results.extend(GetAllValuesByKey(item, targetKey))\n",
    "    return results\n",
    "\n",
    "def VolunteersWithVarsOn(allocationVars, targetDay, targetShift, targetGroup):\n",
    "    matchingVolunteers = []\n",
    "\n",
    "    for volunteer, dayDict in allocationVars.items():\n",
    "        shiftDict = dayDict.get(targetDay, {}).get(targetShift, {})\n",
    "        if targetGroup in shiftDict:\n",
    "            matchingVolunteers.append(volunteer)\n",
    "\n",
    "    return matchingVolunteers"
   ]
  },
  {
   "cell_type": "code",
   "execution_count": null,
   "id": "ebaecb4c",
   "metadata": {},
   "outputs": [],
   "source": [
    "constraints = []\n",
    "\n",
    "#TODO: faz sentido deixar a restrição como \"<=\" para perimitir voluntarios não alocados?\n",
    "# only one shift per voluntier\n",
    "for voluntier in voluntiers:\n",
    "    # list of all days and shifts where the current voluntier is available\n",
    "    shiftsAvailable = [allocationVars[voluntier][day][shift] \n",
    "                        for day in allocationVars.get(voluntier, {}) \n",
    "                        for shift in allocationVars[voluntier].get(day, {})]\n",
    "    if shiftsAvailable:\n",
    "        #TODO: fix to include groups\n",
    "        # constraints += [cp.sum(shiftsAvailable) == 1]\n",
    "        pass\n",
    "\n",
    "\n",
    "# exactly one voluntier per shift\n",
    "for day in days:\n",
    "    for shift in shifts:\n",
    "        for group in groups:\n",
    "            # list of all voluntiers having a variable associated to the current day, shift and group\n",
    "            voluntiersAvailable = VolunteersWithVarsOn(allocationVars, day, shift, group)\n",
    "            if voluntiersAvailable:\n",
    "                #TODO: fix to include groups\n",
    "                # constraints += [cp.sum(voluntiersAvailable) == 1]\n",
    "                pass\n",
    "\n",
    "\n",
    "# exactly one subject per day per group\n",
    "for subject in subjects:\n",
    "    for group in groups:\n",
    "        # constraints += [cp.sum([subjectIndicators[subject][day][group] for day in days]) == 1]\n",
    "        pass\n",
    "\n",
    "\n",
    "# at each group, if subject i is allocated to day j, do not allocate any voluntiers of other subjects to this day\n",
    "for subject in subjects:\n",
    "    for day in days:\n",
    "        for group in groups:\n",
    "            # collect the keys for all voluntiers that cannot teach the current subject\n",
    "            prohibitedVoluntiers = [index for _subject in voluntiersBySubject \n",
    "                                    if _subject != subject \n",
    "                                    for index in voluntiersBySubject[_subject] ]\n",
    "            \n",
    "            # collect all alocation variables corresponding to the prohibited voluntiers \n",
    "            prohibitedAllocations = []\n",
    "            for prohibitedVol in prohibitedVoluntiers:\n",
    "                prohibitedAllocations.extend(GetAllValuesByKey(allocationVars[prohibitedVol], group))\n",
    "\n",
    "            constraints += [subjectIndicators[subject][day][group] + cp.sum(prohibitedAllocations) == 1]\n",
    "            pass\n",
    "\n",
    "    \n",
    "\n",
    "# alocate teaching assistants evenly among the practice shifts\n",
    "objective = cp.Minimize(0) \n"
   ]
  },
  {
   "cell_type": "code",
   "execution_count": null,
   "id": "1744a4a1",
   "metadata": {},
   "outputs": [
    {
     "name": "stdout",
     "output_type": "stream",
     "text": [
      "minimize 0.0\n",
      "subject to indic_port_seg_1 + aloc_v0_qua_19_1 + aloc_v0_qui_19_1 + aloc_v1_seg_21_1 + aloc_v2_seg_21_1 + aloc_v2_ter_21_1 + aloc_v3_ter_21_1 + aloc_v3_qui_21_1 + aloc_v4_qua_21_1 + aloc_v5_qui_21_1 + aloc_v6_seg_19_1 + aloc_v6_ter_19_1 + aloc_v6_qua_19_1 + aloc_v6_qui_19_1 + aloc_v7_seg_21_1 + aloc_v7_ter_21_1 + aloc_v7_qui_21_1 + aloc_v8_seg_21_1 + aloc_v9_seg_21_1 + aloc_v9_ter_21_1 + aloc_v9_qui_21_1 + aloc_v10_ter_21_1 + aloc_v10_qua_21_1 + aloc_v11_seg_21_1 + aloc_v11_ter_21_1 + aloc_v11_qua_21_1 + aloc_v11_qui_21_1 + aloc_v12_seg_21_1 + aloc_v12_ter_21_1 + aloc_v12_qua_21_1 + aloc_v12_qui_21_1 + aloc_v13_seg_21_1 + aloc_v13_qua_21_1 + aloc_v14_qua_21_1 + aloc_v15_seg_21_1 + aloc_v15_ter_21_1 + aloc_v15_qua_21_1 + aloc_v16_seg_21_1 + aloc_v16_ter_21_1 + aloc_v16_qua_21_1 + aloc_v30_seg_21_1 + aloc_v30_ter_21_1 + aloc_v30_qua_21_1 + aloc_v31_seg_21_1 + aloc_v31_ter_21_1 + aloc_v32_seg_19_1 + aloc_v32_ter_19_1 + aloc_v32_qua_19_1 + aloc_v32_qui_19_1 + aloc_v33_qua_21_1 + aloc_v33_qui_21_1 + aloc_v34_seg_19_1 + aloc_v34_ter_19_1 + aloc_v35_seg_21_1 + aloc_v35_ter_21_1 + aloc_v35_qua_21_1 + aloc_v35_qui_21_1 + aloc_v36_seg_21_1 + aloc_v36_qua_21_1 + aloc_v37_seg_21_1 + aloc_v37_qua_21_1 + aloc_v38_seg_21_1 + aloc_v38_ter_21_1 + aloc_v39_ter_21_1 + aloc_v39_qua_21_1 + aloc_v39_qui_21_1 + aloc_v40_seg_21_1 + aloc_v40_qua_21_1 + aloc_v40_qui_21_1 + aloc_v41_ter_21_1 + aloc_v41_qui_21_1 + aloc_v42_ter_21_1 + aloc_v42_qua_21_1 + aloc_v42_qui_21_1 + aloc_v21_ter_21_1 + aloc_v21_qua_21_1 + aloc_v21_qui_21_1 + aloc_v22_seg_19_1 + aloc_v22_qua_19_1 + aloc_v23_qua_19_1 + aloc_v23_qui_19_1 + aloc_v24_seg_21_1 + aloc_v24_ter_21_1 + aloc_v25_seg_21_1 + aloc_v25_ter_21_1 + aloc_v25_qua_21_1 + aloc_v25_qui_21_1 + aloc_v26_seg_21_1 + aloc_v26_ter_21_1 + aloc_v26_qui_21_1 + aloc_v27_seg_21_1 + aloc_v27_ter_21_1 + aloc_v27_qui_21_1 + aloc_v28_qui_21_1 + aloc_v29_seg_21_1 + aloc_v29_ter_21_1 + aloc_v29_qua_21_1 == 1.0\n",
      "           indic_port_seg_2 + aloc_v0_qua_19_2 + aloc_v0_qui_19_2 + aloc_v1_seg_21_2 + aloc_v2_seg_21_2 + aloc_v2_ter_21_2 + aloc_v3_ter_21_2 + aloc_v3_qui_21_2 + aloc_v4_qua_21_2 + aloc_v5_qui_21_2 + aloc_v6_seg_19_2 + aloc_v6_ter_19_2 + aloc_v6_qua_19_2 + aloc_v6_qui_19_2 + aloc_v7_seg_21_2 + aloc_v7_ter_21_2 + aloc_v7_qui_21_2 + aloc_v8_seg_21_2 + aloc_v9_seg_21_2 + aloc_v9_ter_21_2 + aloc_v9_qui_21_2 + aloc_v10_ter_21_2 + aloc_v10_qua_21_2 + aloc_v11_seg_21_2 + aloc_v11_ter_21_2 + aloc_v11_qua_21_2 + aloc_v11_qui_21_2 + aloc_v12_seg_21_2 + aloc_v12_ter_21_2 + aloc_v12_qua_21_2 + aloc_v12_qui_21_2 + aloc_v13_seg_21_2 + aloc_v13_qua_21_2 + aloc_v14_qua_21_2 + aloc_v15_seg_21_2 + aloc_v15_ter_21_2 + aloc_v15_qua_21_2 + aloc_v16_seg_21_2 + aloc_v16_ter_21_2 + aloc_v16_qua_21_2 + aloc_v30_seg_21_2 + aloc_v30_ter_21_2 + aloc_v30_qua_21_2 + aloc_v31_seg_21_2 + aloc_v31_ter_21_2 + aloc_v32_seg_19_2 + aloc_v32_ter_19_2 + aloc_v32_qua_19_2 + aloc_v32_qui_19_2 + aloc_v33_qua_21_2 + aloc_v33_qui_21_2 + aloc_v34_seg_19_2 + aloc_v34_ter_19_2 + aloc_v35_seg_21_2 + aloc_v35_ter_21_2 + aloc_v35_qua_21_2 + aloc_v35_qui_21_2 + aloc_v36_seg_21_2 + aloc_v36_qua_21_2 + aloc_v37_seg_21_2 + aloc_v37_qua_21_2 + aloc_v38_seg_21_2 + aloc_v38_ter_21_2 + aloc_v39_ter_21_2 + aloc_v39_qua_21_2 + aloc_v39_qui_21_2 + aloc_v40_seg_21_2 + aloc_v40_qua_21_2 + aloc_v40_qui_21_2 + aloc_v41_ter_21_2 + aloc_v41_qui_21_2 + aloc_v42_ter_21_2 + aloc_v42_qua_21_2 + aloc_v42_qui_21_2 + aloc_v21_ter_21_2 + aloc_v21_qua_21_2 + aloc_v21_qui_21_2 + aloc_v22_seg_19_2 + aloc_v22_qua_19_2 + aloc_v23_qua_19_2 + aloc_v23_qui_19_2 + aloc_v24_seg_21_2 + aloc_v24_ter_21_2 + aloc_v25_seg_21_2 + aloc_v25_ter_21_2 + aloc_v25_qua_21_2 + aloc_v25_qui_21_2 + aloc_v26_seg_21_2 + aloc_v26_ter_21_2 + aloc_v26_qui_21_2 + aloc_v27_seg_21_2 + aloc_v27_ter_21_2 + aloc_v27_qui_21_2 + aloc_v28_qui_21_2 + aloc_v29_seg_21_2 + aloc_v29_ter_21_2 + aloc_v29_qua_21_2 == 1.0\n",
      "           indic_port_ter_1 + aloc_v0_qua_19_1 + aloc_v0_qui_19_1 + aloc_v1_seg_21_1 + aloc_v2_seg_21_1 + aloc_v2_ter_21_1 + aloc_v3_ter_21_1 + aloc_v3_qui_21_1 + aloc_v4_qua_21_1 + aloc_v5_qui_21_1 + aloc_v6_seg_19_1 + aloc_v6_ter_19_1 + aloc_v6_qua_19_1 + aloc_v6_qui_19_1 + aloc_v7_seg_21_1 + aloc_v7_ter_21_1 + aloc_v7_qui_21_1 + aloc_v8_seg_21_1 + aloc_v9_seg_21_1 + aloc_v9_ter_21_1 + aloc_v9_qui_21_1 + aloc_v10_ter_21_1 + aloc_v10_qua_21_1 + aloc_v11_seg_21_1 + aloc_v11_ter_21_1 + aloc_v11_qua_21_1 + aloc_v11_qui_21_1 + aloc_v12_seg_21_1 + aloc_v12_ter_21_1 + aloc_v12_qua_21_1 + aloc_v12_qui_21_1 + aloc_v13_seg_21_1 + aloc_v13_qua_21_1 + aloc_v14_qua_21_1 + aloc_v15_seg_21_1 + aloc_v15_ter_21_1 + aloc_v15_qua_21_1 + aloc_v16_seg_21_1 + aloc_v16_ter_21_1 + aloc_v16_qua_21_1 + aloc_v30_seg_21_1 + aloc_v30_ter_21_1 + aloc_v30_qua_21_1 + aloc_v31_seg_21_1 + aloc_v31_ter_21_1 + aloc_v32_seg_19_1 + aloc_v32_ter_19_1 + aloc_v32_qua_19_1 + aloc_v32_qui_19_1 + aloc_v33_qua_21_1 + aloc_v33_qui_21_1 + aloc_v34_seg_19_1 + aloc_v34_ter_19_1 + aloc_v35_seg_21_1 + aloc_v35_ter_21_1 + aloc_v35_qua_21_1 + aloc_v35_qui_21_1 + aloc_v36_seg_21_1 + aloc_v36_qua_21_1 + aloc_v37_seg_21_1 + aloc_v37_qua_21_1 + aloc_v38_seg_21_1 + aloc_v38_ter_21_1 + aloc_v39_ter_21_1 + aloc_v39_qua_21_1 + aloc_v39_qui_21_1 + aloc_v40_seg_21_1 + aloc_v40_qua_21_1 + aloc_v40_qui_21_1 + aloc_v41_ter_21_1 + aloc_v41_qui_21_1 + aloc_v42_ter_21_1 + aloc_v42_qua_21_1 + aloc_v42_qui_21_1 + aloc_v21_ter_21_1 + aloc_v21_qua_21_1 + aloc_v21_qui_21_1 + aloc_v22_seg_19_1 + aloc_v22_qua_19_1 + aloc_v23_qua_19_1 + aloc_v23_qui_19_1 + aloc_v24_seg_21_1 + aloc_v24_ter_21_1 + aloc_v25_seg_21_1 + aloc_v25_ter_21_1 + aloc_v25_qua_21_1 + aloc_v25_qui_21_1 + aloc_v26_seg_21_1 + aloc_v26_ter_21_1 + aloc_v26_qui_21_1 + aloc_v27_seg_21_1 + aloc_v27_ter_21_1 + aloc_v27_qui_21_1 + aloc_v28_qui_21_1 + aloc_v29_seg_21_1 + aloc_v29_ter_21_1 + aloc_v29_qua_21_1 == 1.0\n",
      "           indic_port_ter_2 + aloc_v0_qua_19_2 + aloc_v0_qui_19_2 + aloc_v1_seg_21_2 + aloc_v2_seg_21_2 + aloc_v2_ter_21_2 + aloc_v3_ter_21_2 + aloc_v3_qui_21_2 + aloc_v4_qua_21_2 + aloc_v5_qui_21_2 + aloc_v6_seg_19_2 + aloc_v6_ter_19_2 + aloc_v6_qua_19_2 + aloc_v6_qui_19_2 + aloc_v7_seg_21_2 + aloc_v7_ter_21_2 + aloc_v7_qui_21_2 + aloc_v8_seg_21_2 + aloc_v9_seg_21_2 + aloc_v9_ter_21_2 + aloc_v9_qui_21_2 + aloc_v10_ter_21_2 + aloc_v10_qua_21_2 + aloc_v11_seg_21_2 + aloc_v11_ter_21_2 + aloc_v11_qua_21_2 + aloc_v11_qui_21_2 + aloc_v12_seg_21_2 + aloc_v12_ter_21_2 + aloc_v12_qua_21_2 + aloc_v12_qui_21_2 + aloc_v13_seg_21_2 + aloc_v13_qua_21_2 + aloc_v14_qua_21_2 + aloc_v15_seg_21_2 + aloc_v15_ter_21_2 + aloc_v15_qua_21_2 + aloc_v16_seg_21_2 + aloc_v16_ter_21_2 + aloc_v16_qua_21_2 + aloc_v30_seg_21_2 + aloc_v30_ter_21_2 + aloc_v30_qua_21_2 + aloc_v31_seg_21_2 + aloc_v31_ter_21_2 + aloc_v32_seg_19_2 + aloc_v32_ter_19_2 + aloc_v32_qua_19_2 + aloc_v32_qui_19_2 + aloc_v33_qua_21_2 + aloc_v33_qui_21_2 + aloc_v34_seg_19_2 + aloc_v34_ter_19_2 + aloc_v35_seg_21_2 + aloc_v35_ter_21_2 + aloc_v35_qua_21_2 + aloc_v35_qui_21_2 + aloc_v36_seg_21_2 + aloc_v36_qua_21_2 + aloc_v37_seg_21_2 + aloc_v37_qua_21_2 + aloc_v38_seg_21_2 + aloc_v38_ter_21_2 + aloc_v39_ter_21_2 + aloc_v39_qua_21_2 + aloc_v39_qui_21_2 + aloc_v40_seg_21_2 + aloc_v40_qua_21_2 + aloc_v40_qui_21_2 + aloc_v41_ter_21_2 + aloc_v41_qui_21_2 + aloc_v42_ter_21_2 + aloc_v42_qua_21_2 + aloc_v42_qui_21_2 + aloc_v21_ter_21_2 + aloc_v21_qua_21_2 + aloc_v21_qui_21_2 + aloc_v22_seg_19_2 + aloc_v22_qua_19_2 + aloc_v23_qua_19_2 + aloc_v23_qui_19_2 + aloc_v24_seg_21_2 + aloc_v24_ter_21_2 + aloc_v25_seg_21_2 + aloc_v25_ter_21_2 + aloc_v25_qua_21_2 + aloc_v25_qui_21_2 + aloc_v26_seg_21_2 + aloc_v26_ter_21_2 + aloc_v26_qui_21_2 + aloc_v27_seg_21_2 + aloc_v27_ter_21_2 + aloc_v27_qui_21_2 + aloc_v28_qui_21_2 + aloc_v29_seg_21_2 + aloc_v29_ter_21_2 + aloc_v29_qua_21_2 == 1.0\n",
      "           indic_port_qua_1 + aloc_v0_qua_19_1 + aloc_v0_qui_19_1 + aloc_v1_seg_21_1 + aloc_v2_seg_21_1 + aloc_v2_ter_21_1 + aloc_v3_ter_21_1 + aloc_v3_qui_21_1 + aloc_v4_qua_21_1 + aloc_v5_qui_21_1 + aloc_v6_seg_19_1 + aloc_v6_ter_19_1 + aloc_v6_qua_19_1 + aloc_v6_qui_19_1 + aloc_v7_seg_21_1 + aloc_v7_ter_21_1 + aloc_v7_qui_21_1 + aloc_v8_seg_21_1 + aloc_v9_seg_21_1 + aloc_v9_ter_21_1 + aloc_v9_qui_21_1 + aloc_v10_ter_21_1 + aloc_v10_qua_21_1 + aloc_v11_seg_21_1 + aloc_v11_ter_21_1 + aloc_v11_qua_21_1 + aloc_v11_qui_21_1 + aloc_v12_seg_21_1 + aloc_v12_ter_21_1 + aloc_v12_qua_21_1 + aloc_v12_qui_21_1 + aloc_v13_seg_21_1 + aloc_v13_qua_21_1 + aloc_v14_qua_21_1 + aloc_v15_seg_21_1 + aloc_v15_ter_21_1 + aloc_v15_qua_21_1 + aloc_v16_seg_21_1 + aloc_v16_ter_21_1 + aloc_v16_qua_21_1 + aloc_v30_seg_21_1 + aloc_v30_ter_21_1 + aloc_v30_qua_21_1 + aloc_v31_seg_21_1 + aloc_v31_ter_21_1 + aloc_v32_seg_19_1 + aloc_v32_ter_19_1 + aloc_v32_qua_19_1 + aloc_v32_qui_19_1 + aloc_v33_qua_21_1 + aloc_v33_qui_21_1 + aloc_v34_seg_19_1 + aloc_v34_ter_19_1 + aloc_v35_seg_21_1 + aloc_v35_ter_21_1 + aloc_v35_qua_21_1 + aloc_v35_qui_21_1 + aloc_v36_seg_21_1 + aloc_v36_qua_21_1 + aloc_v37_seg_21_1 + aloc_v37_qua_21_1 + aloc_v38_seg_21_1 + aloc_v38_ter_21_1 + aloc_v39_ter_21_1 + aloc_v39_qua_21_1 + aloc_v39_qui_21_1 + aloc_v40_seg_21_1 + aloc_v40_qua_21_1 + aloc_v40_qui_21_1 + aloc_v41_ter_21_1 + aloc_v41_qui_21_1 + aloc_v42_ter_21_1 + aloc_v42_qua_21_1 + aloc_v42_qui_21_1 + aloc_v21_ter_21_1 + aloc_v21_qua_21_1 + aloc_v21_qui_21_1 + aloc_v22_seg_19_1 + aloc_v22_qua_19_1 + aloc_v23_qua_19_1 + aloc_v23_qui_19_1 + aloc_v24_seg_21_1 + aloc_v24_ter_21_1 + aloc_v25_seg_21_1 + aloc_v25_ter_21_1 + aloc_v25_qua_21_1 + aloc_v25_qui_21_1 + aloc_v26_seg_21_1 + aloc_v26_ter_21_1 + aloc_v26_qui_21_1 + aloc_v27_seg_21_1 + aloc_v27_ter_21_1 + aloc_v27_qui_21_1 + aloc_v28_qui_21_1 + aloc_v29_seg_21_1 + aloc_v29_ter_21_1 + aloc_v29_qua_21_1 == 1.0\n",
      "           indic_port_qua_2 + aloc_v0_qua_19_2 + aloc_v0_qui_19_2 + aloc_v1_seg_21_2 + aloc_v2_seg_21_2 + aloc_v2_ter_21_2 + aloc_v3_ter_21_2 + aloc_v3_qui_21_2 + aloc_v4_qua_21_2 + aloc_v5_qui_21_2 + aloc_v6_seg_19_2 + aloc_v6_ter_19_2 + aloc_v6_qua_19_2 + aloc_v6_qui_19_2 + aloc_v7_seg_21_2 + aloc_v7_ter_21_2 + aloc_v7_qui_21_2 + aloc_v8_seg_21_2 + aloc_v9_seg_21_2 + aloc_v9_ter_21_2 + aloc_v9_qui_21_2 + aloc_v10_ter_21_2 + aloc_v10_qua_21_2 + aloc_v11_seg_21_2 + aloc_v11_ter_21_2 + aloc_v11_qua_21_2 + aloc_v11_qui_21_2 + aloc_v12_seg_21_2 + aloc_v12_ter_21_2 + aloc_v12_qua_21_2 + aloc_v12_qui_21_2 + aloc_v13_seg_21_2 + aloc_v13_qua_21_2 + aloc_v14_qua_21_2 + aloc_v15_seg_21_2 + aloc_v15_ter_21_2 + aloc_v15_qua_21_2 + aloc_v16_seg_21_2 + aloc_v16_ter_21_2 + aloc_v16_qua_21_2 + aloc_v30_seg_21_2 + aloc_v30_ter_21_2 + aloc_v30_qua_21_2 + aloc_v31_seg_21_2 + aloc_v31_ter_21_2 + aloc_v32_seg_19_2 + aloc_v32_ter_19_2 + aloc_v32_qua_19_2 + aloc_v32_qui_19_2 + aloc_v33_qua_21_2 + aloc_v33_qui_21_2 + aloc_v34_seg_19_2 + aloc_v34_ter_19_2 + aloc_v35_seg_21_2 + aloc_v35_ter_21_2 + aloc_v35_qua_21_2 + aloc_v35_qui_21_2 + aloc_v36_seg_21_2 + aloc_v36_qua_21_2 + aloc_v37_seg_21_2 + aloc_v37_qua_21_2 + aloc_v38_seg_21_2 + aloc_v38_ter_21_2 + aloc_v39_ter_21_2 + aloc_v39_qua_21_2 + aloc_v39_qui_21_2 + aloc_v40_seg_21_2 + aloc_v40_qua_21_2 + aloc_v40_qui_21_2 + aloc_v41_ter_21_2 + aloc_v41_qui_21_2 + aloc_v42_ter_21_2 + aloc_v42_qua_21_2 + aloc_v42_qui_21_2 + aloc_v21_ter_21_2 + aloc_v21_qua_21_2 + aloc_v21_qui_21_2 + aloc_v22_seg_19_2 + aloc_v22_qua_19_2 + aloc_v23_qua_19_2 + aloc_v23_qui_19_2 + aloc_v24_seg_21_2 + aloc_v24_ter_21_2 + aloc_v25_seg_21_2 + aloc_v25_ter_21_2 + aloc_v25_qua_21_2 + aloc_v25_qui_21_2 + aloc_v26_seg_21_2 + aloc_v26_ter_21_2 + aloc_v26_qui_21_2 + aloc_v27_seg_21_2 + aloc_v27_ter_21_2 + aloc_v27_qui_21_2 + aloc_v28_qui_21_2 + aloc_v29_seg_21_2 + aloc_v29_ter_21_2 + aloc_v29_qua_21_2 == 1.0\n",
      "           indic_port_qui_1 + aloc_v0_qua_19_1 + aloc_v0_qui_19_1 + aloc_v1_seg_21_1 + aloc_v2_seg_21_1 + aloc_v2_ter_21_1 + aloc_v3_ter_21_1 + aloc_v3_qui_21_1 + aloc_v4_qua_21_1 + aloc_v5_qui_21_1 + aloc_v6_seg_19_1 + aloc_v6_ter_19_1 + aloc_v6_qua_19_1 + aloc_v6_qui_19_1 + aloc_v7_seg_21_1 + aloc_v7_ter_21_1 + aloc_v7_qui_21_1 + aloc_v8_seg_21_1 + aloc_v9_seg_21_1 + aloc_v9_ter_21_1 + aloc_v9_qui_21_1 + aloc_v10_ter_21_1 + aloc_v10_qua_21_1 + aloc_v11_seg_21_1 + aloc_v11_ter_21_1 + aloc_v11_qua_21_1 + aloc_v11_qui_21_1 + aloc_v12_seg_21_1 + aloc_v12_ter_21_1 + aloc_v12_qua_21_1 + aloc_v12_qui_21_1 + aloc_v13_seg_21_1 + aloc_v13_qua_21_1 + aloc_v14_qua_21_1 + aloc_v15_seg_21_1 + aloc_v15_ter_21_1 + aloc_v15_qua_21_1 + aloc_v16_seg_21_1 + aloc_v16_ter_21_1 + aloc_v16_qua_21_1 + aloc_v30_seg_21_1 + aloc_v30_ter_21_1 + aloc_v30_qua_21_1 + aloc_v31_seg_21_1 + aloc_v31_ter_21_1 + aloc_v32_seg_19_1 + aloc_v32_ter_19_1 + aloc_v32_qua_19_1 + aloc_v32_qui_19_1 + aloc_v33_qua_21_1 + aloc_v33_qui_21_1 + aloc_v34_seg_19_1 + aloc_v34_ter_19_1 + aloc_v35_seg_21_1 + aloc_v35_ter_21_1 + aloc_v35_qua_21_1 + aloc_v35_qui_21_1 + aloc_v36_seg_21_1 + aloc_v36_qua_21_1 + aloc_v37_seg_21_1 + aloc_v37_qua_21_1 + aloc_v38_seg_21_1 + aloc_v38_ter_21_1 + aloc_v39_ter_21_1 + aloc_v39_qua_21_1 + aloc_v39_qui_21_1 + aloc_v40_seg_21_1 + aloc_v40_qua_21_1 + aloc_v40_qui_21_1 + aloc_v41_ter_21_1 + aloc_v41_qui_21_1 + aloc_v42_ter_21_1 + aloc_v42_qua_21_1 + aloc_v42_qui_21_1 + aloc_v21_ter_21_1 + aloc_v21_qua_21_1 + aloc_v21_qui_21_1 + aloc_v22_seg_19_1 + aloc_v22_qua_19_1 + aloc_v23_qua_19_1 + aloc_v23_qui_19_1 + aloc_v24_seg_21_1 + aloc_v24_ter_21_1 + aloc_v25_seg_21_1 + aloc_v25_ter_21_1 + aloc_v25_qua_21_1 + aloc_v25_qui_21_1 + aloc_v26_seg_21_1 + aloc_v26_ter_21_1 + aloc_v26_qui_21_1 + aloc_v27_seg_21_1 + aloc_v27_ter_21_1 + aloc_v27_qui_21_1 + aloc_v28_qui_21_1 + aloc_v29_seg_21_1 + aloc_v29_ter_21_1 + aloc_v29_qua_21_1 == 1.0\n",
      "           indic_port_qui_2 + aloc_v0_qua_19_2 + aloc_v0_qui_19_2 + aloc_v1_seg_21_2 + aloc_v2_seg_21_2 + aloc_v2_ter_21_2 + aloc_v3_ter_21_2 + aloc_v3_qui_21_2 + aloc_v4_qua_21_2 + aloc_v5_qui_21_2 + aloc_v6_seg_19_2 + aloc_v6_ter_19_2 + aloc_v6_qua_19_2 + aloc_v6_qui_19_2 + aloc_v7_seg_21_2 + aloc_v7_ter_21_2 + aloc_v7_qui_21_2 + aloc_v8_seg_21_2 + aloc_v9_seg_21_2 + aloc_v9_ter_21_2 + aloc_v9_qui_21_2 + aloc_v10_ter_21_2 + aloc_v10_qua_21_2 + aloc_v11_seg_21_2 + aloc_v11_ter_21_2 + aloc_v11_qua_21_2 + aloc_v11_qui_21_2 + aloc_v12_seg_21_2 + aloc_v12_ter_21_2 + aloc_v12_qua_21_2 + aloc_v12_qui_21_2 + aloc_v13_seg_21_2 + aloc_v13_qua_21_2 + aloc_v14_qua_21_2 + aloc_v15_seg_21_2 + aloc_v15_ter_21_2 + aloc_v15_qua_21_2 + aloc_v16_seg_21_2 + aloc_v16_ter_21_2 + aloc_v16_qua_21_2 + aloc_v30_seg_21_2 + aloc_v30_ter_21_2 + aloc_v30_qua_21_2 + aloc_v31_seg_21_2 + aloc_v31_ter_21_2 + aloc_v32_seg_19_2 + aloc_v32_ter_19_2 + aloc_v32_qua_19_2 + aloc_v32_qui_19_2 + aloc_v33_qua_21_2 + aloc_v33_qui_21_2 + aloc_v34_seg_19_2 + aloc_v34_ter_19_2 + aloc_v35_seg_21_2 + aloc_v35_ter_21_2 + aloc_v35_qua_21_2 + aloc_v35_qui_21_2 + aloc_v36_seg_21_2 + aloc_v36_qua_21_2 + aloc_v37_seg_21_2 + aloc_v37_qua_21_2 + aloc_v38_seg_21_2 + aloc_v38_ter_21_2 + aloc_v39_ter_21_2 + aloc_v39_qua_21_2 + aloc_v39_qui_21_2 + aloc_v40_seg_21_2 + aloc_v40_qua_21_2 + aloc_v40_qui_21_2 + aloc_v41_ter_21_2 + aloc_v41_qui_21_2 + aloc_v42_ter_21_2 + aloc_v42_qua_21_2 + aloc_v42_qui_21_2 + aloc_v21_ter_21_2 + aloc_v21_qua_21_2 + aloc_v21_qui_21_2 + aloc_v22_seg_19_2 + aloc_v22_qua_19_2 + aloc_v23_qua_19_2 + aloc_v23_qui_19_2 + aloc_v24_seg_21_2 + aloc_v24_ter_21_2 + aloc_v25_seg_21_2 + aloc_v25_ter_21_2 + aloc_v25_qua_21_2 + aloc_v25_qui_21_2 + aloc_v26_seg_21_2 + aloc_v26_ter_21_2 + aloc_v26_qui_21_2 + aloc_v27_seg_21_2 + aloc_v27_ter_21_2 + aloc_v27_qui_21_2 + aloc_v28_qui_21_2 + aloc_v29_seg_21_2 + aloc_v29_ter_21_2 + aloc_v29_qua_21_2 == 1.0\n",
      "           indic_mat_seg_1 + aloc_v17_seg_19_1 + aloc_v17_ter_19_1 + aloc_v17_qui_19_1 + aloc_v18_seg_19_1 + aloc_v18_ter_19_1 + aloc_v19_seg_21_1 + aloc_v19_ter_21_1 + aloc_v19_qua_21_1 + aloc_v19_qui_21_1 + aloc_v20_ter_21_1 + aloc_v20_qua_21_1 + aloc_v20_qui_21_1 + aloc_v30_seg_21_1 + aloc_v30_ter_21_1 + aloc_v30_qua_21_1 + aloc_v31_seg_21_1 + aloc_v31_ter_21_1 + aloc_v32_seg_19_1 + aloc_v32_ter_19_1 + aloc_v32_qua_19_1 + aloc_v32_qui_19_1 + aloc_v33_qua_21_1 + aloc_v33_qui_21_1 + aloc_v34_seg_19_1 + aloc_v34_ter_19_1 + aloc_v35_seg_21_1 + aloc_v35_ter_21_1 + aloc_v35_qua_21_1 + aloc_v35_qui_21_1 + aloc_v36_seg_21_1 + aloc_v36_qua_21_1 + aloc_v37_seg_21_1 + aloc_v37_qua_21_1 + aloc_v38_seg_21_1 + aloc_v38_ter_21_1 + aloc_v39_ter_21_1 + aloc_v39_qua_21_1 + aloc_v39_qui_21_1 + aloc_v40_seg_21_1 + aloc_v40_qua_21_1 + aloc_v40_qui_21_1 + aloc_v41_ter_21_1 + aloc_v41_qui_21_1 + aloc_v42_ter_21_1 + aloc_v42_qua_21_1 + aloc_v42_qui_21_1 + aloc_v21_ter_21_1 + aloc_v21_qua_21_1 + aloc_v21_qui_21_1 + aloc_v22_seg_19_1 + aloc_v22_qua_19_1 + aloc_v23_qua_19_1 + aloc_v23_qui_19_1 + aloc_v24_seg_21_1 + aloc_v24_ter_21_1 + aloc_v25_seg_21_1 + aloc_v25_ter_21_1 + aloc_v25_qua_21_1 + aloc_v25_qui_21_1 + aloc_v26_seg_21_1 + aloc_v26_ter_21_1 + aloc_v26_qui_21_1 + aloc_v27_seg_21_1 + aloc_v27_ter_21_1 + aloc_v27_qui_21_1 + aloc_v28_qui_21_1 + aloc_v29_seg_21_1 + aloc_v29_ter_21_1 + aloc_v29_qua_21_1 == 1.0\n",
      "           indic_mat_seg_2 + aloc_v17_seg_19_2 + aloc_v17_ter_19_2 + aloc_v17_qui_19_2 + aloc_v18_seg_19_2 + aloc_v18_ter_19_2 + aloc_v19_seg_21_2 + aloc_v19_ter_21_2 + aloc_v19_qua_21_2 + aloc_v19_qui_21_2 + aloc_v20_ter_21_2 + aloc_v20_qua_21_2 + aloc_v20_qui_21_2 + aloc_v30_seg_21_2 + aloc_v30_ter_21_2 + aloc_v30_qua_21_2 + aloc_v31_seg_21_2 + aloc_v31_ter_21_2 + aloc_v32_seg_19_2 + aloc_v32_ter_19_2 + aloc_v32_qua_19_2 + aloc_v32_qui_19_2 + aloc_v33_qua_21_2 + aloc_v33_qui_21_2 + aloc_v34_seg_19_2 + aloc_v34_ter_19_2 + aloc_v35_seg_21_2 + aloc_v35_ter_21_2 + aloc_v35_qua_21_2 + aloc_v35_qui_21_2 + aloc_v36_seg_21_2 + aloc_v36_qua_21_2 + aloc_v37_seg_21_2 + aloc_v37_qua_21_2 + aloc_v38_seg_21_2 + aloc_v38_ter_21_2 + aloc_v39_ter_21_2 + aloc_v39_qua_21_2 + aloc_v39_qui_21_2 + aloc_v40_seg_21_2 + aloc_v40_qua_21_2 + aloc_v40_qui_21_2 + aloc_v41_ter_21_2 + aloc_v41_qui_21_2 + aloc_v42_ter_21_2 + aloc_v42_qua_21_2 + aloc_v42_qui_21_2 + aloc_v21_ter_21_2 + aloc_v21_qua_21_2 + aloc_v21_qui_21_2 + aloc_v22_seg_19_2 + aloc_v22_qua_19_2 + aloc_v23_qua_19_2 + aloc_v23_qui_19_2 + aloc_v24_seg_21_2 + aloc_v24_ter_21_2 + aloc_v25_seg_21_2 + aloc_v25_ter_21_2 + aloc_v25_qua_21_2 + aloc_v25_qui_21_2 + aloc_v26_seg_21_2 + aloc_v26_ter_21_2 + aloc_v26_qui_21_2 + aloc_v27_seg_21_2 + aloc_v27_ter_21_2 + aloc_v27_qui_21_2 + aloc_v28_qui_21_2 + aloc_v29_seg_21_2 + aloc_v29_ter_21_2 + aloc_v29_qua_21_2 == 1.0\n",
      "           indic_mat_ter_1 + aloc_v17_seg_19_1 + aloc_v17_ter_19_1 + aloc_v17_qui_19_1 + aloc_v18_seg_19_1 + aloc_v18_ter_19_1 + aloc_v19_seg_21_1 + aloc_v19_ter_21_1 + aloc_v19_qua_21_1 + aloc_v19_qui_21_1 + aloc_v20_ter_21_1 + aloc_v20_qua_21_1 + aloc_v20_qui_21_1 + aloc_v30_seg_21_1 + aloc_v30_ter_21_1 + aloc_v30_qua_21_1 + aloc_v31_seg_21_1 + aloc_v31_ter_21_1 + aloc_v32_seg_19_1 + aloc_v32_ter_19_1 + aloc_v32_qua_19_1 + aloc_v32_qui_19_1 + aloc_v33_qua_21_1 + aloc_v33_qui_21_1 + aloc_v34_seg_19_1 + aloc_v34_ter_19_1 + aloc_v35_seg_21_1 + aloc_v35_ter_21_1 + aloc_v35_qua_21_1 + aloc_v35_qui_21_1 + aloc_v36_seg_21_1 + aloc_v36_qua_21_1 + aloc_v37_seg_21_1 + aloc_v37_qua_21_1 + aloc_v38_seg_21_1 + aloc_v38_ter_21_1 + aloc_v39_ter_21_1 + aloc_v39_qua_21_1 + aloc_v39_qui_21_1 + aloc_v40_seg_21_1 + aloc_v40_qua_21_1 + aloc_v40_qui_21_1 + aloc_v41_ter_21_1 + aloc_v41_qui_21_1 + aloc_v42_ter_21_1 + aloc_v42_qua_21_1 + aloc_v42_qui_21_1 + aloc_v21_ter_21_1 + aloc_v21_qua_21_1 + aloc_v21_qui_21_1 + aloc_v22_seg_19_1 + aloc_v22_qua_19_1 + aloc_v23_qua_19_1 + aloc_v23_qui_19_1 + aloc_v24_seg_21_1 + aloc_v24_ter_21_1 + aloc_v25_seg_21_1 + aloc_v25_ter_21_1 + aloc_v25_qua_21_1 + aloc_v25_qui_21_1 + aloc_v26_seg_21_1 + aloc_v26_ter_21_1 + aloc_v26_qui_21_1 + aloc_v27_seg_21_1 + aloc_v27_ter_21_1 + aloc_v27_qui_21_1 + aloc_v28_qui_21_1 + aloc_v29_seg_21_1 + aloc_v29_ter_21_1 + aloc_v29_qua_21_1 == 1.0\n",
      "           indic_mat_ter_2 + aloc_v17_seg_19_2 + aloc_v17_ter_19_2 + aloc_v17_qui_19_2 + aloc_v18_seg_19_2 + aloc_v18_ter_19_2 + aloc_v19_seg_21_2 + aloc_v19_ter_21_2 + aloc_v19_qua_21_2 + aloc_v19_qui_21_2 + aloc_v20_ter_21_2 + aloc_v20_qua_21_2 + aloc_v20_qui_21_2 + aloc_v30_seg_21_2 + aloc_v30_ter_21_2 + aloc_v30_qua_21_2 + aloc_v31_seg_21_2 + aloc_v31_ter_21_2 + aloc_v32_seg_19_2 + aloc_v32_ter_19_2 + aloc_v32_qua_19_2 + aloc_v32_qui_19_2 + aloc_v33_qua_21_2 + aloc_v33_qui_21_2 + aloc_v34_seg_19_2 + aloc_v34_ter_19_2 + aloc_v35_seg_21_2 + aloc_v35_ter_21_2 + aloc_v35_qua_21_2 + aloc_v35_qui_21_2 + aloc_v36_seg_21_2 + aloc_v36_qua_21_2 + aloc_v37_seg_21_2 + aloc_v37_qua_21_2 + aloc_v38_seg_21_2 + aloc_v38_ter_21_2 + aloc_v39_ter_21_2 + aloc_v39_qua_21_2 + aloc_v39_qui_21_2 + aloc_v40_seg_21_2 + aloc_v40_qua_21_2 + aloc_v40_qui_21_2 + aloc_v41_ter_21_2 + aloc_v41_qui_21_2 + aloc_v42_ter_21_2 + aloc_v42_qua_21_2 + aloc_v42_qui_21_2 + aloc_v21_ter_21_2 + aloc_v21_qua_21_2 + aloc_v21_qui_21_2 + aloc_v22_seg_19_2 + aloc_v22_qua_19_2 + aloc_v23_qua_19_2 + aloc_v23_qui_19_2 + aloc_v24_seg_21_2 + aloc_v24_ter_21_2 + aloc_v25_seg_21_2 + aloc_v25_ter_21_2 + aloc_v25_qua_21_2 + aloc_v25_qui_21_2 + aloc_v26_seg_21_2 + aloc_v26_ter_21_2 + aloc_v26_qui_21_2 + aloc_v27_seg_21_2 + aloc_v27_ter_21_2 + aloc_v27_qui_21_2 + aloc_v28_qui_21_2 + aloc_v29_seg_21_2 + aloc_v29_ter_21_2 + aloc_v29_qua_21_2 == 1.0\n",
      "           indic_mat_qua_1 + aloc_v17_seg_19_1 + aloc_v17_ter_19_1 + aloc_v17_qui_19_1 + aloc_v18_seg_19_1 + aloc_v18_ter_19_1 + aloc_v19_seg_21_1 + aloc_v19_ter_21_1 + aloc_v19_qua_21_1 + aloc_v19_qui_21_1 + aloc_v20_ter_21_1 + aloc_v20_qua_21_1 + aloc_v20_qui_21_1 + aloc_v30_seg_21_1 + aloc_v30_ter_21_1 + aloc_v30_qua_21_1 + aloc_v31_seg_21_1 + aloc_v31_ter_21_1 + aloc_v32_seg_19_1 + aloc_v32_ter_19_1 + aloc_v32_qua_19_1 + aloc_v32_qui_19_1 + aloc_v33_qua_21_1 + aloc_v33_qui_21_1 + aloc_v34_seg_19_1 + aloc_v34_ter_19_1 + aloc_v35_seg_21_1 + aloc_v35_ter_21_1 + aloc_v35_qua_21_1 + aloc_v35_qui_21_1 + aloc_v36_seg_21_1 + aloc_v36_qua_21_1 + aloc_v37_seg_21_1 + aloc_v37_qua_21_1 + aloc_v38_seg_21_1 + aloc_v38_ter_21_1 + aloc_v39_ter_21_1 + aloc_v39_qua_21_1 + aloc_v39_qui_21_1 + aloc_v40_seg_21_1 + aloc_v40_qua_21_1 + aloc_v40_qui_21_1 + aloc_v41_ter_21_1 + aloc_v41_qui_21_1 + aloc_v42_ter_21_1 + aloc_v42_qua_21_1 + aloc_v42_qui_21_1 + aloc_v21_ter_21_1 + aloc_v21_qua_21_1 + aloc_v21_qui_21_1 + aloc_v22_seg_19_1 + aloc_v22_qua_19_1 + aloc_v23_qua_19_1 + aloc_v23_qui_19_1 + aloc_v24_seg_21_1 + aloc_v24_ter_21_1 + aloc_v25_seg_21_1 + aloc_v25_ter_21_1 + aloc_v25_qua_21_1 + aloc_v25_qui_21_1 + aloc_v26_seg_21_1 + aloc_v26_ter_21_1 + aloc_v26_qui_21_1 + aloc_v27_seg_21_1 + aloc_v27_ter_21_1 + aloc_v27_qui_21_1 + aloc_v28_qui_21_1 + aloc_v29_seg_21_1 + aloc_v29_ter_21_1 + aloc_v29_qua_21_1 == 1.0\n",
      "           indic_mat_qua_2 + aloc_v17_seg_19_2 + aloc_v17_ter_19_2 + aloc_v17_qui_19_2 + aloc_v18_seg_19_2 + aloc_v18_ter_19_2 + aloc_v19_seg_21_2 + aloc_v19_ter_21_2 + aloc_v19_qua_21_2 + aloc_v19_qui_21_2 + aloc_v20_ter_21_2 + aloc_v20_qua_21_2 + aloc_v20_qui_21_2 + aloc_v30_seg_21_2 + aloc_v30_ter_21_2 + aloc_v30_qua_21_2 + aloc_v31_seg_21_2 + aloc_v31_ter_21_2 + aloc_v32_seg_19_2 + aloc_v32_ter_19_2 + aloc_v32_qua_19_2 + aloc_v32_qui_19_2 + aloc_v33_qua_21_2 + aloc_v33_qui_21_2 + aloc_v34_seg_19_2 + aloc_v34_ter_19_2 + aloc_v35_seg_21_2 + aloc_v35_ter_21_2 + aloc_v35_qua_21_2 + aloc_v35_qui_21_2 + aloc_v36_seg_21_2 + aloc_v36_qua_21_2 + aloc_v37_seg_21_2 + aloc_v37_qua_21_2 + aloc_v38_seg_21_2 + aloc_v38_ter_21_2 + aloc_v39_ter_21_2 + aloc_v39_qua_21_2 + aloc_v39_qui_21_2 + aloc_v40_seg_21_2 + aloc_v40_qua_21_2 + aloc_v40_qui_21_2 + aloc_v41_ter_21_2 + aloc_v41_qui_21_2 + aloc_v42_ter_21_2 + aloc_v42_qua_21_2 + aloc_v42_qui_21_2 + aloc_v21_ter_21_2 + aloc_v21_qua_21_2 + aloc_v21_qui_21_2 + aloc_v22_seg_19_2 + aloc_v22_qua_19_2 + aloc_v23_qua_19_2 + aloc_v23_qui_19_2 + aloc_v24_seg_21_2 + aloc_v24_ter_21_2 + aloc_v25_seg_21_2 + aloc_v25_ter_21_2 + aloc_v25_qua_21_2 + aloc_v25_qui_21_2 + aloc_v26_seg_21_2 + aloc_v26_ter_21_2 + aloc_v26_qui_21_2 + aloc_v27_seg_21_2 + aloc_v27_ter_21_2 + aloc_v27_qui_21_2 + aloc_v28_qui_21_2 + aloc_v29_seg_21_2 + aloc_v29_ter_21_2 + aloc_v29_qua_21_2 == 1.0\n",
      "           indic_mat_qui_1 + aloc_v17_seg_19_1 + aloc_v17_ter_19_1 + aloc_v17_qui_19_1 + aloc_v18_seg_19_1 + aloc_v18_ter_19_1 + aloc_v19_seg_21_1 + aloc_v19_ter_21_1 + aloc_v19_qua_21_1 + aloc_v19_qui_21_1 + aloc_v20_ter_21_1 + aloc_v20_qua_21_1 + aloc_v20_qui_21_1 + aloc_v30_seg_21_1 + aloc_v30_ter_21_1 + aloc_v30_qua_21_1 + aloc_v31_seg_21_1 + aloc_v31_ter_21_1 + aloc_v32_seg_19_1 + aloc_v32_ter_19_1 + aloc_v32_qua_19_1 + aloc_v32_qui_19_1 + aloc_v33_qua_21_1 + aloc_v33_qui_21_1 + aloc_v34_seg_19_1 + aloc_v34_ter_19_1 + aloc_v35_seg_21_1 + aloc_v35_ter_21_1 + aloc_v35_qua_21_1 + aloc_v35_qui_21_1 + aloc_v36_seg_21_1 + aloc_v36_qua_21_1 + aloc_v37_seg_21_1 + aloc_v37_qua_21_1 + aloc_v38_seg_21_1 + aloc_v38_ter_21_1 + aloc_v39_ter_21_1 + aloc_v39_qua_21_1 + aloc_v39_qui_21_1 + aloc_v40_seg_21_1 + aloc_v40_qua_21_1 + aloc_v40_qui_21_1 + aloc_v41_ter_21_1 + aloc_v41_qui_21_1 + aloc_v42_ter_21_1 + aloc_v42_qua_21_1 + aloc_v42_qui_21_1 + aloc_v21_ter_21_1 + aloc_v21_qua_21_1 + aloc_v21_qui_21_1 + aloc_v22_seg_19_1 + aloc_v22_qua_19_1 + aloc_v23_qua_19_1 + aloc_v23_qui_19_1 + aloc_v24_seg_21_1 + aloc_v24_ter_21_1 + aloc_v25_seg_21_1 + aloc_v25_ter_21_1 + aloc_v25_qua_21_1 + aloc_v25_qui_21_1 + aloc_v26_seg_21_1 + aloc_v26_ter_21_1 + aloc_v26_qui_21_1 + aloc_v27_seg_21_1 + aloc_v27_ter_21_1 + aloc_v27_qui_21_1 + aloc_v28_qui_21_1 + aloc_v29_seg_21_1 + aloc_v29_ter_21_1 + aloc_v29_qua_21_1 == 1.0\n",
      "           indic_mat_qui_2 + aloc_v17_seg_19_2 + aloc_v17_ter_19_2 + aloc_v17_qui_19_2 + aloc_v18_seg_19_2 + aloc_v18_ter_19_2 + aloc_v19_seg_21_2 + aloc_v19_ter_21_2 + aloc_v19_qua_21_2 + aloc_v19_qui_21_2 + aloc_v20_ter_21_2 + aloc_v20_qua_21_2 + aloc_v20_qui_21_2 + aloc_v30_seg_21_2 + aloc_v30_ter_21_2 + aloc_v30_qua_21_2 + aloc_v31_seg_21_2 + aloc_v31_ter_21_2 + aloc_v32_seg_19_2 + aloc_v32_ter_19_2 + aloc_v32_qua_19_2 + aloc_v32_qui_19_2 + aloc_v33_qua_21_2 + aloc_v33_qui_21_2 + aloc_v34_seg_19_2 + aloc_v34_ter_19_2 + aloc_v35_seg_21_2 + aloc_v35_ter_21_2 + aloc_v35_qua_21_2 + aloc_v35_qui_21_2 + aloc_v36_seg_21_2 + aloc_v36_qua_21_2 + aloc_v37_seg_21_2 + aloc_v37_qua_21_2 + aloc_v38_seg_21_2 + aloc_v38_ter_21_2 + aloc_v39_ter_21_2 + aloc_v39_qua_21_2 + aloc_v39_qui_21_2 + aloc_v40_seg_21_2 + aloc_v40_qua_21_2 + aloc_v40_qui_21_2 + aloc_v41_ter_21_2 + aloc_v41_qui_21_2 + aloc_v42_ter_21_2 + aloc_v42_qua_21_2 + aloc_v42_qui_21_2 + aloc_v21_ter_21_2 + aloc_v21_qua_21_2 + aloc_v21_qui_21_2 + aloc_v22_seg_19_2 + aloc_v22_qua_19_2 + aloc_v23_qua_19_2 + aloc_v23_qui_19_2 + aloc_v24_seg_21_2 + aloc_v24_ter_21_2 + aloc_v25_seg_21_2 + aloc_v25_ter_21_2 + aloc_v25_qua_21_2 + aloc_v25_qui_21_2 + aloc_v26_seg_21_2 + aloc_v26_ter_21_2 + aloc_v26_qui_21_2 + aloc_v27_seg_21_2 + aloc_v27_ter_21_2 + aloc_v27_qui_21_2 + aloc_v28_qui_21_2 + aloc_v29_seg_21_2 + aloc_v29_ter_21_2 + aloc_v29_qua_21_2 == 1.0\n",
      "           indic_fis_seg_1 + aloc_v17_seg_19_1 + aloc_v17_ter_19_1 + aloc_v17_qui_19_1 + aloc_v18_seg_19_1 + aloc_v18_ter_19_1 + aloc_v19_seg_21_1 + aloc_v19_ter_21_1 + aloc_v19_qua_21_1 + aloc_v19_qui_21_1 + aloc_v20_ter_21_1 + aloc_v20_qua_21_1 + aloc_v20_qui_21_1 + aloc_v0_qua_19_1 + aloc_v0_qui_19_1 + aloc_v1_seg_21_1 + aloc_v2_seg_21_1 + aloc_v2_ter_21_1 + aloc_v3_ter_21_1 + aloc_v3_qui_21_1 + aloc_v4_qua_21_1 + aloc_v5_qui_21_1 + aloc_v6_seg_19_1 + aloc_v6_ter_19_1 + aloc_v6_qua_19_1 + aloc_v6_qui_19_1 + aloc_v7_seg_21_1 + aloc_v7_ter_21_1 + aloc_v7_qui_21_1 + aloc_v8_seg_21_1 + aloc_v9_seg_21_1 + aloc_v9_ter_21_1 + aloc_v9_qui_21_1 + aloc_v10_ter_21_1 + aloc_v10_qua_21_1 + aloc_v11_seg_21_1 + aloc_v11_ter_21_1 + aloc_v11_qua_21_1 + aloc_v11_qui_21_1 + aloc_v12_seg_21_1 + aloc_v12_ter_21_1 + aloc_v12_qua_21_1 + aloc_v12_qui_21_1 + aloc_v13_seg_21_1 + aloc_v13_qua_21_1 + aloc_v14_qua_21_1 + aloc_v15_seg_21_1 + aloc_v15_ter_21_1 + aloc_v15_qua_21_1 + aloc_v16_seg_21_1 + aloc_v16_ter_21_1 + aloc_v16_qua_21_1 + aloc_v21_ter_21_1 + aloc_v21_qua_21_1 + aloc_v21_qui_21_1 + aloc_v22_seg_19_1 + aloc_v22_qua_19_1 + aloc_v23_qua_19_1 + aloc_v23_qui_19_1 + aloc_v24_seg_21_1 + aloc_v24_ter_21_1 + aloc_v25_seg_21_1 + aloc_v25_ter_21_1 + aloc_v25_qua_21_1 + aloc_v25_qui_21_1 + aloc_v26_seg_21_1 + aloc_v26_ter_21_1 + aloc_v26_qui_21_1 + aloc_v27_seg_21_1 + aloc_v27_ter_21_1 + aloc_v27_qui_21_1 + aloc_v28_qui_21_1 + aloc_v29_seg_21_1 + aloc_v29_ter_21_1 + aloc_v29_qua_21_1 == 1.0\n",
      "           indic_fis_seg_2 + aloc_v17_seg_19_2 + aloc_v17_ter_19_2 + aloc_v17_qui_19_2 + aloc_v18_seg_19_2 + aloc_v18_ter_19_2 + aloc_v19_seg_21_2 + aloc_v19_ter_21_2 + aloc_v19_qua_21_2 + aloc_v19_qui_21_2 + aloc_v20_ter_21_2 + aloc_v20_qua_21_2 + aloc_v20_qui_21_2 + aloc_v0_qua_19_2 + aloc_v0_qui_19_2 + aloc_v1_seg_21_2 + aloc_v2_seg_21_2 + aloc_v2_ter_21_2 + aloc_v3_ter_21_2 + aloc_v3_qui_21_2 + aloc_v4_qua_21_2 + aloc_v5_qui_21_2 + aloc_v6_seg_19_2 + aloc_v6_ter_19_2 + aloc_v6_qua_19_2 + aloc_v6_qui_19_2 + aloc_v7_seg_21_2 + aloc_v7_ter_21_2 + aloc_v7_qui_21_2 + aloc_v8_seg_21_2 + aloc_v9_seg_21_2 + aloc_v9_ter_21_2 + aloc_v9_qui_21_2 + aloc_v10_ter_21_2 + aloc_v10_qua_21_2 + aloc_v11_seg_21_2 + aloc_v11_ter_21_2 + aloc_v11_qua_21_2 + aloc_v11_qui_21_2 + aloc_v12_seg_21_2 + aloc_v12_ter_21_2 + aloc_v12_qua_21_2 + aloc_v12_qui_21_2 + aloc_v13_seg_21_2 + aloc_v13_qua_21_2 + aloc_v14_qua_21_2 + aloc_v15_seg_21_2 + aloc_v15_ter_21_2 + aloc_v15_qua_21_2 + aloc_v16_seg_21_2 + aloc_v16_ter_21_2 + aloc_v16_qua_21_2 + aloc_v21_ter_21_2 + aloc_v21_qua_21_2 + aloc_v21_qui_21_2 + aloc_v22_seg_19_2 + aloc_v22_qua_19_2 + aloc_v23_qua_19_2 + aloc_v23_qui_19_2 + aloc_v24_seg_21_2 + aloc_v24_ter_21_2 + aloc_v25_seg_21_2 + aloc_v25_ter_21_2 + aloc_v25_qua_21_2 + aloc_v25_qui_21_2 + aloc_v26_seg_21_2 + aloc_v26_ter_21_2 + aloc_v26_qui_21_2 + aloc_v27_seg_21_2 + aloc_v27_ter_21_2 + aloc_v27_qui_21_2 + aloc_v28_qui_21_2 + aloc_v29_seg_21_2 + aloc_v29_ter_21_2 + aloc_v29_qua_21_2 == 1.0\n",
      "           indic_fis_ter_1 + aloc_v17_seg_19_1 + aloc_v17_ter_19_1 + aloc_v17_qui_19_1 + aloc_v18_seg_19_1 + aloc_v18_ter_19_1 + aloc_v19_seg_21_1 + aloc_v19_ter_21_1 + aloc_v19_qua_21_1 + aloc_v19_qui_21_1 + aloc_v20_ter_21_1 + aloc_v20_qua_21_1 + aloc_v20_qui_21_1 + aloc_v0_qua_19_1 + aloc_v0_qui_19_1 + aloc_v1_seg_21_1 + aloc_v2_seg_21_1 + aloc_v2_ter_21_1 + aloc_v3_ter_21_1 + aloc_v3_qui_21_1 + aloc_v4_qua_21_1 + aloc_v5_qui_21_1 + aloc_v6_seg_19_1 + aloc_v6_ter_19_1 + aloc_v6_qua_19_1 + aloc_v6_qui_19_1 + aloc_v7_seg_21_1 + aloc_v7_ter_21_1 + aloc_v7_qui_21_1 + aloc_v8_seg_21_1 + aloc_v9_seg_21_1 + aloc_v9_ter_21_1 + aloc_v9_qui_21_1 + aloc_v10_ter_21_1 + aloc_v10_qua_21_1 + aloc_v11_seg_21_1 + aloc_v11_ter_21_1 + aloc_v11_qua_21_1 + aloc_v11_qui_21_1 + aloc_v12_seg_21_1 + aloc_v12_ter_21_1 + aloc_v12_qua_21_1 + aloc_v12_qui_21_1 + aloc_v13_seg_21_1 + aloc_v13_qua_21_1 + aloc_v14_qua_21_1 + aloc_v15_seg_21_1 + aloc_v15_ter_21_1 + aloc_v15_qua_21_1 + aloc_v16_seg_21_1 + aloc_v16_ter_21_1 + aloc_v16_qua_21_1 + aloc_v21_ter_21_1 + aloc_v21_qua_21_1 + aloc_v21_qui_21_1 + aloc_v22_seg_19_1 + aloc_v22_qua_19_1 + aloc_v23_qua_19_1 + aloc_v23_qui_19_1 + aloc_v24_seg_21_1 + aloc_v24_ter_21_1 + aloc_v25_seg_21_1 + aloc_v25_ter_21_1 + aloc_v25_qua_21_1 + aloc_v25_qui_21_1 + aloc_v26_seg_21_1 + aloc_v26_ter_21_1 + aloc_v26_qui_21_1 + aloc_v27_seg_21_1 + aloc_v27_ter_21_1 + aloc_v27_qui_21_1 + aloc_v28_qui_21_1 + aloc_v29_seg_21_1 + aloc_v29_ter_21_1 + aloc_v29_qua_21_1 == 1.0\n",
      "           indic_fis_ter_2 + aloc_v17_seg_19_2 + aloc_v17_ter_19_2 + aloc_v17_qui_19_2 + aloc_v18_seg_19_2 + aloc_v18_ter_19_2 + aloc_v19_seg_21_2 + aloc_v19_ter_21_2 + aloc_v19_qua_21_2 + aloc_v19_qui_21_2 + aloc_v20_ter_21_2 + aloc_v20_qua_21_2 + aloc_v20_qui_21_2 + aloc_v0_qua_19_2 + aloc_v0_qui_19_2 + aloc_v1_seg_21_2 + aloc_v2_seg_21_2 + aloc_v2_ter_21_2 + aloc_v3_ter_21_2 + aloc_v3_qui_21_2 + aloc_v4_qua_21_2 + aloc_v5_qui_21_2 + aloc_v6_seg_19_2 + aloc_v6_ter_19_2 + aloc_v6_qua_19_2 + aloc_v6_qui_19_2 + aloc_v7_seg_21_2 + aloc_v7_ter_21_2 + aloc_v7_qui_21_2 + aloc_v8_seg_21_2 + aloc_v9_seg_21_2 + aloc_v9_ter_21_2 + aloc_v9_qui_21_2 + aloc_v10_ter_21_2 + aloc_v10_qua_21_2 + aloc_v11_seg_21_2 + aloc_v11_ter_21_2 + aloc_v11_qua_21_2 + aloc_v11_qui_21_2 + aloc_v12_seg_21_2 + aloc_v12_ter_21_2 + aloc_v12_qua_21_2 + aloc_v12_qui_21_2 + aloc_v13_seg_21_2 + aloc_v13_qua_21_2 + aloc_v14_qua_21_2 + aloc_v15_seg_21_2 + aloc_v15_ter_21_2 + aloc_v15_qua_21_2 + aloc_v16_seg_21_2 + aloc_v16_ter_21_2 + aloc_v16_qua_21_2 + aloc_v21_ter_21_2 + aloc_v21_qua_21_2 + aloc_v21_qui_21_2 + aloc_v22_seg_19_2 + aloc_v22_qua_19_2 + aloc_v23_qua_19_2 + aloc_v23_qui_19_2 + aloc_v24_seg_21_2 + aloc_v24_ter_21_2 + aloc_v25_seg_21_2 + aloc_v25_ter_21_2 + aloc_v25_qua_21_2 + aloc_v25_qui_21_2 + aloc_v26_seg_21_2 + aloc_v26_ter_21_2 + aloc_v26_qui_21_2 + aloc_v27_seg_21_2 + aloc_v27_ter_21_2 + aloc_v27_qui_21_2 + aloc_v28_qui_21_2 + aloc_v29_seg_21_2 + aloc_v29_ter_21_2 + aloc_v29_qua_21_2 == 1.0\n",
      "           indic_fis_qua_1 + aloc_v17_seg_19_1 + aloc_v17_ter_19_1 + aloc_v17_qui_19_1 + aloc_v18_seg_19_1 + aloc_v18_ter_19_1 + aloc_v19_seg_21_1 + aloc_v19_ter_21_1 + aloc_v19_qua_21_1 + aloc_v19_qui_21_1 + aloc_v20_ter_21_1 + aloc_v20_qua_21_1 + aloc_v20_qui_21_1 + aloc_v0_qua_19_1 + aloc_v0_qui_19_1 + aloc_v1_seg_21_1 + aloc_v2_seg_21_1 + aloc_v2_ter_21_1 + aloc_v3_ter_21_1 + aloc_v3_qui_21_1 + aloc_v4_qua_21_1 + aloc_v5_qui_21_1 + aloc_v6_seg_19_1 + aloc_v6_ter_19_1 + aloc_v6_qua_19_1 + aloc_v6_qui_19_1 + aloc_v7_seg_21_1 + aloc_v7_ter_21_1 + aloc_v7_qui_21_1 + aloc_v8_seg_21_1 + aloc_v9_seg_21_1 + aloc_v9_ter_21_1 + aloc_v9_qui_21_1 + aloc_v10_ter_21_1 + aloc_v10_qua_21_1 + aloc_v11_seg_21_1 + aloc_v11_ter_21_1 + aloc_v11_qua_21_1 + aloc_v11_qui_21_1 + aloc_v12_seg_21_1 + aloc_v12_ter_21_1 + aloc_v12_qua_21_1 + aloc_v12_qui_21_1 + aloc_v13_seg_21_1 + aloc_v13_qua_21_1 + aloc_v14_qua_21_1 + aloc_v15_seg_21_1 + aloc_v15_ter_21_1 + aloc_v15_qua_21_1 + aloc_v16_seg_21_1 + aloc_v16_ter_21_1 + aloc_v16_qua_21_1 + aloc_v21_ter_21_1 + aloc_v21_qua_21_1 + aloc_v21_qui_21_1 + aloc_v22_seg_19_1 + aloc_v22_qua_19_1 + aloc_v23_qua_19_1 + aloc_v23_qui_19_1 + aloc_v24_seg_21_1 + aloc_v24_ter_21_1 + aloc_v25_seg_21_1 + aloc_v25_ter_21_1 + aloc_v25_qua_21_1 + aloc_v25_qui_21_1 + aloc_v26_seg_21_1 + aloc_v26_ter_21_1 + aloc_v26_qui_21_1 + aloc_v27_seg_21_1 + aloc_v27_ter_21_1 + aloc_v27_qui_21_1 + aloc_v28_qui_21_1 + aloc_v29_seg_21_1 + aloc_v29_ter_21_1 + aloc_v29_qua_21_1 == 1.0\n",
      "           indic_fis_qua_2 + aloc_v17_seg_19_2 + aloc_v17_ter_19_2 + aloc_v17_qui_19_2 + aloc_v18_seg_19_2 + aloc_v18_ter_19_2 + aloc_v19_seg_21_2 + aloc_v19_ter_21_2 + aloc_v19_qua_21_2 + aloc_v19_qui_21_2 + aloc_v20_ter_21_2 + aloc_v20_qua_21_2 + aloc_v20_qui_21_2 + aloc_v0_qua_19_2 + aloc_v0_qui_19_2 + aloc_v1_seg_21_2 + aloc_v2_seg_21_2 + aloc_v2_ter_21_2 + aloc_v3_ter_21_2 + aloc_v3_qui_21_2 + aloc_v4_qua_21_2 + aloc_v5_qui_21_2 + aloc_v6_seg_19_2 + aloc_v6_ter_19_2 + aloc_v6_qua_19_2 + aloc_v6_qui_19_2 + aloc_v7_seg_21_2 + aloc_v7_ter_21_2 + aloc_v7_qui_21_2 + aloc_v8_seg_21_2 + aloc_v9_seg_21_2 + aloc_v9_ter_21_2 + aloc_v9_qui_21_2 + aloc_v10_ter_21_2 + aloc_v10_qua_21_2 + aloc_v11_seg_21_2 + aloc_v11_ter_21_2 + aloc_v11_qua_21_2 + aloc_v11_qui_21_2 + aloc_v12_seg_21_2 + aloc_v12_ter_21_2 + aloc_v12_qua_21_2 + aloc_v12_qui_21_2 + aloc_v13_seg_21_2 + aloc_v13_qua_21_2 + aloc_v14_qua_21_2 + aloc_v15_seg_21_2 + aloc_v15_ter_21_2 + aloc_v15_qua_21_2 + aloc_v16_seg_21_2 + aloc_v16_ter_21_2 + aloc_v16_qua_21_2 + aloc_v21_ter_21_2 + aloc_v21_qua_21_2 + aloc_v21_qui_21_2 + aloc_v22_seg_19_2 + aloc_v22_qua_19_2 + aloc_v23_qua_19_2 + aloc_v23_qui_19_2 + aloc_v24_seg_21_2 + aloc_v24_ter_21_2 + aloc_v25_seg_21_2 + aloc_v25_ter_21_2 + aloc_v25_qua_21_2 + aloc_v25_qui_21_2 + aloc_v26_seg_21_2 + aloc_v26_ter_21_2 + aloc_v26_qui_21_2 + aloc_v27_seg_21_2 + aloc_v27_ter_21_2 + aloc_v27_qui_21_2 + aloc_v28_qui_21_2 + aloc_v29_seg_21_2 + aloc_v29_ter_21_2 + aloc_v29_qua_21_2 == 1.0\n",
      "           indic_fis_qui_1 + aloc_v17_seg_19_1 + aloc_v17_ter_19_1 + aloc_v17_qui_19_1 + aloc_v18_seg_19_1 + aloc_v18_ter_19_1 + aloc_v19_seg_21_1 + aloc_v19_ter_21_1 + aloc_v19_qua_21_1 + aloc_v19_qui_21_1 + aloc_v20_ter_21_1 + aloc_v20_qua_21_1 + aloc_v20_qui_21_1 + aloc_v0_qua_19_1 + aloc_v0_qui_19_1 + aloc_v1_seg_21_1 + aloc_v2_seg_21_1 + aloc_v2_ter_21_1 + aloc_v3_ter_21_1 + aloc_v3_qui_21_1 + aloc_v4_qua_21_1 + aloc_v5_qui_21_1 + aloc_v6_seg_19_1 + aloc_v6_ter_19_1 + aloc_v6_qua_19_1 + aloc_v6_qui_19_1 + aloc_v7_seg_21_1 + aloc_v7_ter_21_1 + aloc_v7_qui_21_1 + aloc_v8_seg_21_1 + aloc_v9_seg_21_1 + aloc_v9_ter_21_1 + aloc_v9_qui_21_1 + aloc_v10_ter_21_1 + aloc_v10_qua_21_1 + aloc_v11_seg_21_1 + aloc_v11_ter_21_1 + aloc_v11_qua_21_1 + aloc_v11_qui_21_1 + aloc_v12_seg_21_1 + aloc_v12_ter_21_1 + aloc_v12_qua_21_1 + aloc_v12_qui_21_1 + aloc_v13_seg_21_1 + aloc_v13_qua_21_1 + aloc_v14_qua_21_1 + aloc_v15_seg_21_1 + aloc_v15_ter_21_1 + aloc_v15_qua_21_1 + aloc_v16_seg_21_1 + aloc_v16_ter_21_1 + aloc_v16_qua_21_1 + aloc_v21_ter_21_1 + aloc_v21_qua_21_1 + aloc_v21_qui_21_1 + aloc_v22_seg_19_1 + aloc_v22_qua_19_1 + aloc_v23_qua_19_1 + aloc_v23_qui_19_1 + aloc_v24_seg_21_1 + aloc_v24_ter_21_1 + aloc_v25_seg_21_1 + aloc_v25_ter_21_1 + aloc_v25_qua_21_1 + aloc_v25_qui_21_1 + aloc_v26_seg_21_1 + aloc_v26_ter_21_1 + aloc_v26_qui_21_1 + aloc_v27_seg_21_1 + aloc_v27_ter_21_1 + aloc_v27_qui_21_1 + aloc_v28_qui_21_1 + aloc_v29_seg_21_1 + aloc_v29_ter_21_1 + aloc_v29_qua_21_1 == 1.0\n",
      "           indic_fis_qui_2 + aloc_v17_seg_19_2 + aloc_v17_ter_19_2 + aloc_v17_qui_19_2 + aloc_v18_seg_19_2 + aloc_v18_ter_19_2 + aloc_v19_seg_21_2 + aloc_v19_ter_21_2 + aloc_v19_qua_21_2 + aloc_v19_qui_21_2 + aloc_v20_ter_21_2 + aloc_v20_qua_21_2 + aloc_v20_qui_21_2 + aloc_v0_qua_19_2 + aloc_v0_qui_19_2 + aloc_v1_seg_21_2 + aloc_v2_seg_21_2 + aloc_v2_ter_21_2 + aloc_v3_ter_21_2 + aloc_v3_qui_21_2 + aloc_v4_qua_21_2 + aloc_v5_qui_21_2 + aloc_v6_seg_19_2 + aloc_v6_ter_19_2 + aloc_v6_qua_19_2 + aloc_v6_qui_19_2 + aloc_v7_seg_21_2 + aloc_v7_ter_21_2 + aloc_v7_qui_21_2 + aloc_v8_seg_21_2 + aloc_v9_seg_21_2 + aloc_v9_ter_21_2 + aloc_v9_qui_21_2 + aloc_v10_ter_21_2 + aloc_v10_qua_21_2 + aloc_v11_seg_21_2 + aloc_v11_ter_21_2 + aloc_v11_qua_21_2 + aloc_v11_qui_21_2 + aloc_v12_seg_21_2 + aloc_v12_ter_21_2 + aloc_v12_qua_21_2 + aloc_v12_qui_21_2 + aloc_v13_seg_21_2 + aloc_v13_qua_21_2 + aloc_v14_qua_21_2 + aloc_v15_seg_21_2 + aloc_v15_ter_21_2 + aloc_v15_qua_21_2 + aloc_v16_seg_21_2 + aloc_v16_ter_21_2 + aloc_v16_qua_21_2 + aloc_v21_ter_21_2 + aloc_v21_qua_21_2 + aloc_v21_qui_21_2 + aloc_v22_seg_19_2 + aloc_v22_qua_19_2 + aloc_v23_qua_19_2 + aloc_v23_qui_19_2 + aloc_v24_seg_21_2 + aloc_v24_ter_21_2 + aloc_v25_seg_21_2 + aloc_v25_ter_21_2 + aloc_v25_qua_21_2 + aloc_v25_qui_21_2 + aloc_v26_seg_21_2 + aloc_v26_ter_21_2 + aloc_v26_qui_21_2 + aloc_v27_seg_21_2 + aloc_v27_ter_21_2 + aloc_v27_qui_21_2 + aloc_v28_qui_21_2 + aloc_v29_seg_21_2 + aloc_v29_ter_21_2 + aloc_v29_qua_21_2 == 1.0\n",
      "           indic_quim_seg_1 + aloc_v17_seg_19_1 + aloc_v17_ter_19_1 + aloc_v17_qui_19_1 + aloc_v18_seg_19_1 + aloc_v18_ter_19_1 + aloc_v19_seg_21_1 + aloc_v19_ter_21_1 + aloc_v19_qua_21_1 + aloc_v19_qui_21_1 + aloc_v20_ter_21_1 + aloc_v20_qua_21_1 + aloc_v20_qui_21_1 + aloc_v0_qua_19_1 + aloc_v0_qui_19_1 + aloc_v1_seg_21_1 + aloc_v2_seg_21_1 + aloc_v2_ter_21_1 + aloc_v3_ter_21_1 + aloc_v3_qui_21_1 + aloc_v4_qua_21_1 + aloc_v5_qui_21_1 + aloc_v6_seg_19_1 + aloc_v6_ter_19_1 + aloc_v6_qua_19_1 + aloc_v6_qui_19_1 + aloc_v7_seg_21_1 + aloc_v7_ter_21_1 + aloc_v7_qui_21_1 + aloc_v8_seg_21_1 + aloc_v9_seg_21_1 + aloc_v9_ter_21_1 + aloc_v9_qui_21_1 + aloc_v10_ter_21_1 + aloc_v10_qua_21_1 + aloc_v11_seg_21_1 + aloc_v11_ter_21_1 + aloc_v11_qua_21_1 + aloc_v11_qui_21_1 + aloc_v12_seg_21_1 + aloc_v12_ter_21_1 + aloc_v12_qua_21_1 + aloc_v12_qui_21_1 + aloc_v13_seg_21_1 + aloc_v13_qua_21_1 + aloc_v14_qua_21_1 + aloc_v15_seg_21_1 + aloc_v15_ter_21_1 + aloc_v15_qua_21_1 + aloc_v16_seg_21_1 + aloc_v16_ter_21_1 + aloc_v16_qua_21_1 + aloc_v30_seg_21_1 + aloc_v30_ter_21_1 + aloc_v30_qua_21_1 + aloc_v31_seg_21_1 + aloc_v31_ter_21_1 + aloc_v32_seg_19_1 + aloc_v32_ter_19_1 + aloc_v32_qua_19_1 + aloc_v32_qui_19_1 + aloc_v33_qua_21_1 + aloc_v33_qui_21_1 + aloc_v34_seg_19_1 + aloc_v34_ter_19_1 + aloc_v35_seg_21_1 + aloc_v35_ter_21_1 + aloc_v35_qua_21_1 + aloc_v35_qui_21_1 + aloc_v36_seg_21_1 + aloc_v36_qua_21_1 + aloc_v37_seg_21_1 + aloc_v37_qua_21_1 + aloc_v38_seg_21_1 + aloc_v38_ter_21_1 + aloc_v39_ter_21_1 + aloc_v39_qua_21_1 + aloc_v39_qui_21_1 + aloc_v40_seg_21_1 + aloc_v40_qua_21_1 + aloc_v40_qui_21_1 + aloc_v41_ter_21_1 + aloc_v41_qui_21_1 + aloc_v42_ter_21_1 + aloc_v42_qua_21_1 + aloc_v42_qui_21_1 == 1.0\n",
      "           indic_quim_seg_2 + aloc_v17_seg_19_2 + aloc_v17_ter_19_2 + aloc_v17_qui_19_2 + aloc_v18_seg_19_2 + aloc_v18_ter_19_2 + aloc_v19_seg_21_2 + aloc_v19_ter_21_2 + aloc_v19_qua_21_2 + aloc_v19_qui_21_2 + aloc_v20_ter_21_2 + aloc_v20_qua_21_2 + aloc_v20_qui_21_2 + aloc_v0_qua_19_2 + aloc_v0_qui_19_2 + aloc_v1_seg_21_2 + aloc_v2_seg_21_2 + aloc_v2_ter_21_2 + aloc_v3_ter_21_2 + aloc_v3_qui_21_2 + aloc_v4_qua_21_2 + aloc_v5_qui_21_2 + aloc_v6_seg_19_2 + aloc_v6_ter_19_2 + aloc_v6_qua_19_2 + aloc_v6_qui_19_2 + aloc_v7_seg_21_2 + aloc_v7_ter_21_2 + aloc_v7_qui_21_2 + aloc_v8_seg_21_2 + aloc_v9_seg_21_2 + aloc_v9_ter_21_2 + aloc_v9_qui_21_2 + aloc_v10_ter_21_2 + aloc_v10_qua_21_2 + aloc_v11_seg_21_2 + aloc_v11_ter_21_2 + aloc_v11_qua_21_2 + aloc_v11_qui_21_2 + aloc_v12_seg_21_2 + aloc_v12_ter_21_2 + aloc_v12_qua_21_2 + aloc_v12_qui_21_2 + aloc_v13_seg_21_2 + aloc_v13_qua_21_2 + aloc_v14_qua_21_2 + aloc_v15_seg_21_2 + aloc_v15_ter_21_2 + aloc_v15_qua_21_2 + aloc_v16_seg_21_2 + aloc_v16_ter_21_2 + aloc_v16_qua_21_2 + aloc_v30_seg_21_2 + aloc_v30_ter_21_2 + aloc_v30_qua_21_2 + aloc_v31_seg_21_2 + aloc_v31_ter_21_2 + aloc_v32_seg_19_2 + aloc_v32_ter_19_2 + aloc_v32_qua_19_2 + aloc_v32_qui_19_2 + aloc_v33_qua_21_2 + aloc_v33_qui_21_2 + aloc_v34_seg_19_2 + aloc_v34_ter_19_2 + aloc_v35_seg_21_2 + aloc_v35_ter_21_2 + aloc_v35_qua_21_2 + aloc_v35_qui_21_2 + aloc_v36_seg_21_2 + aloc_v36_qua_21_2 + aloc_v37_seg_21_2 + aloc_v37_qua_21_2 + aloc_v38_seg_21_2 + aloc_v38_ter_21_2 + aloc_v39_ter_21_2 + aloc_v39_qua_21_2 + aloc_v39_qui_21_2 + aloc_v40_seg_21_2 + aloc_v40_qua_21_2 + aloc_v40_qui_21_2 + aloc_v41_ter_21_2 + aloc_v41_qui_21_2 + aloc_v42_ter_21_2 + aloc_v42_qua_21_2 + aloc_v42_qui_21_2 == 1.0\n",
      "           indic_quim_ter_1 + aloc_v17_seg_19_1 + aloc_v17_ter_19_1 + aloc_v17_qui_19_1 + aloc_v18_seg_19_1 + aloc_v18_ter_19_1 + aloc_v19_seg_21_1 + aloc_v19_ter_21_1 + aloc_v19_qua_21_1 + aloc_v19_qui_21_1 + aloc_v20_ter_21_1 + aloc_v20_qua_21_1 + aloc_v20_qui_21_1 + aloc_v0_qua_19_1 + aloc_v0_qui_19_1 + aloc_v1_seg_21_1 + aloc_v2_seg_21_1 + aloc_v2_ter_21_1 + aloc_v3_ter_21_1 + aloc_v3_qui_21_1 + aloc_v4_qua_21_1 + aloc_v5_qui_21_1 + aloc_v6_seg_19_1 + aloc_v6_ter_19_1 + aloc_v6_qua_19_1 + aloc_v6_qui_19_1 + aloc_v7_seg_21_1 + aloc_v7_ter_21_1 + aloc_v7_qui_21_1 + aloc_v8_seg_21_1 + aloc_v9_seg_21_1 + aloc_v9_ter_21_1 + aloc_v9_qui_21_1 + aloc_v10_ter_21_1 + aloc_v10_qua_21_1 + aloc_v11_seg_21_1 + aloc_v11_ter_21_1 + aloc_v11_qua_21_1 + aloc_v11_qui_21_1 + aloc_v12_seg_21_1 + aloc_v12_ter_21_1 + aloc_v12_qua_21_1 + aloc_v12_qui_21_1 + aloc_v13_seg_21_1 + aloc_v13_qua_21_1 + aloc_v14_qua_21_1 + aloc_v15_seg_21_1 + aloc_v15_ter_21_1 + aloc_v15_qua_21_1 + aloc_v16_seg_21_1 + aloc_v16_ter_21_1 + aloc_v16_qua_21_1 + aloc_v30_seg_21_1 + aloc_v30_ter_21_1 + aloc_v30_qua_21_1 + aloc_v31_seg_21_1 + aloc_v31_ter_21_1 + aloc_v32_seg_19_1 + aloc_v32_ter_19_1 + aloc_v32_qua_19_1 + aloc_v32_qui_19_1 + aloc_v33_qua_21_1 + aloc_v33_qui_21_1 + aloc_v34_seg_19_1 + aloc_v34_ter_19_1 + aloc_v35_seg_21_1 + aloc_v35_ter_21_1 + aloc_v35_qua_21_1 + aloc_v35_qui_21_1 + aloc_v36_seg_21_1 + aloc_v36_qua_21_1 + aloc_v37_seg_21_1 + aloc_v37_qua_21_1 + aloc_v38_seg_21_1 + aloc_v38_ter_21_1 + aloc_v39_ter_21_1 + aloc_v39_qua_21_1 + aloc_v39_qui_21_1 + aloc_v40_seg_21_1 + aloc_v40_qua_21_1 + aloc_v40_qui_21_1 + aloc_v41_ter_21_1 + aloc_v41_qui_21_1 + aloc_v42_ter_21_1 + aloc_v42_qua_21_1 + aloc_v42_qui_21_1 == 1.0\n",
      "           indic_quim_ter_2 + aloc_v17_seg_19_2 + aloc_v17_ter_19_2 + aloc_v17_qui_19_2 + aloc_v18_seg_19_2 + aloc_v18_ter_19_2 + aloc_v19_seg_21_2 + aloc_v19_ter_21_2 + aloc_v19_qua_21_2 + aloc_v19_qui_21_2 + aloc_v20_ter_21_2 + aloc_v20_qua_21_2 + aloc_v20_qui_21_2 + aloc_v0_qua_19_2 + aloc_v0_qui_19_2 + aloc_v1_seg_21_2 + aloc_v2_seg_21_2 + aloc_v2_ter_21_2 + aloc_v3_ter_21_2 + aloc_v3_qui_21_2 + aloc_v4_qua_21_2 + aloc_v5_qui_21_2 + aloc_v6_seg_19_2 + aloc_v6_ter_19_2 + aloc_v6_qua_19_2 + aloc_v6_qui_19_2 + aloc_v7_seg_21_2 + aloc_v7_ter_21_2 + aloc_v7_qui_21_2 + aloc_v8_seg_21_2 + aloc_v9_seg_21_2 + aloc_v9_ter_21_2 + aloc_v9_qui_21_2 + aloc_v10_ter_21_2 + aloc_v10_qua_21_2 + aloc_v11_seg_21_2 + aloc_v11_ter_21_2 + aloc_v11_qua_21_2 + aloc_v11_qui_21_2 + aloc_v12_seg_21_2 + aloc_v12_ter_21_2 + aloc_v12_qua_21_2 + aloc_v12_qui_21_2 + aloc_v13_seg_21_2 + aloc_v13_qua_21_2 + aloc_v14_qua_21_2 + aloc_v15_seg_21_2 + aloc_v15_ter_21_2 + aloc_v15_qua_21_2 + aloc_v16_seg_21_2 + aloc_v16_ter_21_2 + aloc_v16_qua_21_2 + aloc_v30_seg_21_2 + aloc_v30_ter_21_2 + aloc_v30_qua_21_2 + aloc_v31_seg_21_2 + aloc_v31_ter_21_2 + aloc_v32_seg_19_2 + aloc_v32_ter_19_2 + aloc_v32_qua_19_2 + aloc_v32_qui_19_2 + aloc_v33_qua_21_2 + aloc_v33_qui_21_2 + aloc_v34_seg_19_2 + aloc_v34_ter_19_2 + aloc_v35_seg_21_2 + aloc_v35_ter_21_2 + aloc_v35_qua_21_2 + aloc_v35_qui_21_2 + aloc_v36_seg_21_2 + aloc_v36_qua_21_2 + aloc_v37_seg_21_2 + aloc_v37_qua_21_2 + aloc_v38_seg_21_2 + aloc_v38_ter_21_2 + aloc_v39_ter_21_2 + aloc_v39_qua_21_2 + aloc_v39_qui_21_2 + aloc_v40_seg_21_2 + aloc_v40_qua_21_2 + aloc_v40_qui_21_2 + aloc_v41_ter_21_2 + aloc_v41_qui_21_2 + aloc_v42_ter_21_2 + aloc_v42_qua_21_2 + aloc_v42_qui_21_2 == 1.0\n",
      "           indic_quim_qua_1 + aloc_v17_seg_19_1 + aloc_v17_ter_19_1 + aloc_v17_qui_19_1 + aloc_v18_seg_19_1 + aloc_v18_ter_19_1 + aloc_v19_seg_21_1 + aloc_v19_ter_21_1 + aloc_v19_qua_21_1 + aloc_v19_qui_21_1 + aloc_v20_ter_21_1 + aloc_v20_qua_21_1 + aloc_v20_qui_21_1 + aloc_v0_qua_19_1 + aloc_v0_qui_19_1 + aloc_v1_seg_21_1 + aloc_v2_seg_21_1 + aloc_v2_ter_21_1 + aloc_v3_ter_21_1 + aloc_v3_qui_21_1 + aloc_v4_qua_21_1 + aloc_v5_qui_21_1 + aloc_v6_seg_19_1 + aloc_v6_ter_19_1 + aloc_v6_qua_19_1 + aloc_v6_qui_19_1 + aloc_v7_seg_21_1 + aloc_v7_ter_21_1 + aloc_v7_qui_21_1 + aloc_v8_seg_21_1 + aloc_v9_seg_21_1 + aloc_v9_ter_21_1 + aloc_v9_qui_21_1 + aloc_v10_ter_21_1 + aloc_v10_qua_21_1 + aloc_v11_seg_21_1 + aloc_v11_ter_21_1 + aloc_v11_qua_21_1 + aloc_v11_qui_21_1 + aloc_v12_seg_21_1 + aloc_v12_ter_21_1 + aloc_v12_qua_21_1 + aloc_v12_qui_21_1 + aloc_v13_seg_21_1 + aloc_v13_qua_21_1 + aloc_v14_qua_21_1 + aloc_v15_seg_21_1 + aloc_v15_ter_21_1 + aloc_v15_qua_21_1 + aloc_v16_seg_21_1 + aloc_v16_ter_21_1 + aloc_v16_qua_21_1 + aloc_v30_seg_21_1 + aloc_v30_ter_21_1 + aloc_v30_qua_21_1 + aloc_v31_seg_21_1 + aloc_v31_ter_21_1 + aloc_v32_seg_19_1 + aloc_v32_ter_19_1 + aloc_v32_qua_19_1 + aloc_v32_qui_19_1 + aloc_v33_qua_21_1 + aloc_v33_qui_21_1 + aloc_v34_seg_19_1 + aloc_v34_ter_19_1 + aloc_v35_seg_21_1 + aloc_v35_ter_21_1 + aloc_v35_qua_21_1 + aloc_v35_qui_21_1 + aloc_v36_seg_21_1 + aloc_v36_qua_21_1 + aloc_v37_seg_21_1 + aloc_v37_qua_21_1 + aloc_v38_seg_21_1 + aloc_v38_ter_21_1 + aloc_v39_ter_21_1 + aloc_v39_qua_21_1 + aloc_v39_qui_21_1 + aloc_v40_seg_21_1 + aloc_v40_qua_21_1 + aloc_v40_qui_21_1 + aloc_v41_ter_21_1 + aloc_v41_qui_21_1 + aloc_v42_ter_21_1 + aloc_v42_qua_21_1 + aloc_v42_qui_21_1 == 1.0\n",
      "           indic_quim_qua_2 + aloc_v17_seg_19_2 + aloc_v17_ter_19_2 + aloc_v17_qui_19_2 + aloc_v18_seg_19_2 + aloc_v18_ter_19_2 + aloc_v19_seg_21_2 + aloc_v19_ter_21_2 + aloc_v19_qua_21_2 + aloc_v19_qui_21_2 + aloc_v20_ter_21_2 + aloc_v20_qua_21_2 + aloc_v20_qui_21_2 + aloc_v0_qua_19_2 + aloc_v0_qui_19_2 + aloc_v1_seg_21_2 + aloc_v2_seg_21_2 + aloc_v2_ter_21_2 + aloc_v3_ter_21_2 + aloc_v3_qui_21_2 + aloc_v4_qua_21_2 + aloc_v5_qui_21_2 + aloc_v6_seg_19_2 + aloc_v6_ter_19_2 + aloc_v6_qua_19_2 + aloc_v6_qui_19_2 + aloc_v7_seg_21_2 + aloc_v7_ter_21_2 + aloc_v7_qui_21_2 + aloc_v8_seg_21_2 + aloc_v9_seg_21_2 + aloc_v9_ter_21_2 + aloc_v9_qui_21_2 + aloc_v10_ter_21_2 + aloc_v10_qua_21_2 + aloc_v11_seg_21_2 + aloc_v11_ter_21_2 + aloc_v11_qua_21_2 + aloc_v11_qui_21_2 + aloc_v12_seg_21_2 + aloc_v12_ter_21_2 + aloc_v12_qua_21_2 + aloc_v12_qui_21_2 + aloc_v13_seg_21_2 + aloc_v13_qua_21_2 + aloc_v14_qua_21_2 + aloc_v15_seg_21_2 + aloc_v15_ter_21_2 + aloc_v15_qua_21_2 + aloc_v16_seg_21_2 + aloc_v16_ter_21_2 + aloc_v16_qua_21_2 + aloc_v30_seg_21_2 + aloc_v30_ter_21_2 + aloc_v30_qua_21_2 + aloc_v31_seg_21_2 + aloc_v31_ter_21_2 + aloc_v32_seg_19_2 + aloc_v32_ter_19_2 + aloc_v32_qua_19_2 + aloc_v32_qui_19_2 + aloc_v33_qua_21_2 + aloc_v33_qui_21_2 + aloc_v34_seg_19_2 + aloc_v34_ter_19_2 + aloc_v35_seg_21_2 + aloc_v35_ter_21_2 + aloc_v35_qua_21_2 + aloc_v35_qui_21_2 + aloc_v36_seg_21_2 + aloc_v36_qua_21_2 + aloc_v37_seg_21_2 + aloc_v37_qua_21_2 + aloc_v38_seg_21_2 + aloc_v38_ter_21_2 + aloc_v39_ter_21_2 + aloc_v39_qua_21_2 + aloc_v39_qui_21_2 + aloc_v40_seg_21_2 + aloc_v40_qua_21_2 + aloc_v40_qui_21_2 + aloc_v41_ter_21_2 + aloc_v41_qui_21_2 + aloc_v42_ter_21_2 + aloc_v42_qua_21_2 + aloc_v42_qui_21_2 == 1.0\n",
      "           indic_quim_qui_1 + aloc_v17_seg_19_1 + aloc_v17_ter_19_1 + aloc_v17_qui_19_1 + aloc_v18_seg_19_1 + aloc_v18_ter_19_1 + aloc_v19_seg_21_1 + aloc_v19_ter_21_1 + aloc_v19_qua_21_1 + aloc_v19_qui_21_1 + aloc_v20_ter_21_1 + aloc_v20_qua_21_1 + aloc_v20_qui_21_1 + aloc_v0_qua_19_1 + aloc_v0_qui_19_1 + aloc_v1_seg_21_1 + aloc_v2_seg_21_1 + aloc_v2_ter_21_1 + aloc_v3_ter_21_1 + aloc_v3_qui_21_1 + aloc_v4_qua_21_1 + aloc_v5_qui_21_1 + aloc_v6_seg_19_1 + aloc_v6_ter_19_1 + aloc_v6_qua_19_1 + aloc_v6_qui_19_1 + aloc_v7_seg_21_1 + aloc_v7_ter_21_1 + aloc_v7_qui_21_1 + aloc_v8_seg_21_1 + aloc_v9_seg_21_1 + aloc_v9_ter_21_1 + aloc_v9_qui_21_1 + aloc_v10_ter_21_1 + aloc_v10_qua_21_1 + aloc_v11_seg_21_1 + aloc_v11_ter_21_1 + aloc_v11_qua_21_1 + aloc_v11_qui_21_1 + aloc_v12_seg_21_1 + aloc_v12_ter_21_1 + aloc_v12_qua_21_1 + aloc_v12_qui_21_1 + aloc_v13_seg_21_1 + aloc_v13_qua_21_1 + aloc_v14_qua_21_1 + aloc_v15_seg_21_1 + aloc_v15_ter_21_1 + aloc_v15_qua_21_1 + aloc_v16_seg_21_1 + aloc_v16_ter_21_1 + aloc_v16_qua_21_1 + aloc_v30_seg_21_1 + aloc_v30_ter_21_1 + aloc_v30_qua_21_1 + aloc_v31_seg_21_1 + aloc_v31_ter_21_1 + aloc_v32_seg_19_1 + aloc_v32_ter_19_1 + aloc_v32_qua_19_1 + aloc_v32_qui_19_1 + aloc_v33_qua_21_1 + aloc_v33_qui_21_1 + aloc_v34_seg_19_1 + aloc_v34_ter_19_1 + aloc_v35_seg_21_1 + aloc_v35_ter_21_1 + aloc_v35_qua_21_1 + aloc_v35_qui_21_1 + aloc_v36_seg_21_1 + aloc_v36_qua_21_1 + aloc_v37_seg_21_1 + aloc_v37_qua_21_1 + aloc_v38_seg_21_1 + aloc_v38_ter_21_1 + aloc_v39_ter_21_1 + aloc_v39_qua_21_1 + aloc_v39_qui_21_1 + aloc_v40_seg_21_1 + aloc_v40_qua_21_1 + aloc_v40_qui_21_1 + aloc_v41_ter_21_1 + aloc_v41_qui_21_1 + aloc_v42_ter_21_1 + aloc_v42_qua_21_1 + aloc_v42_qui_21_1 == 1.0\n",
      "           indic_quim_qui_2 + aloc_v17_seg_19_2 + aloc_v17_ter_19_2 + aloc_v17_qui_19_2 + aloc_v18_seg_19_2 + aloc_v18_ter_19_2 + aloc_v19_seg_21_2 + aloc_v19_ter_21_2 + aloc_v19_qua_21_2 + aloc_v19_qui_21_2 + aloc_v20_ter_21_2 + aloc_v20_qua_21_2 + aloc_v20_qui_21_2 + aloc_v0_qua_19_2 + aloc_v0_qui_19_2 + aloc_v1_seg_21_2 + aloc_v2_seg_21_2 + aloc_v2_ter_21_2 + aloc_v3_ter_21_2 + aloc_v3_qui_21_2 + aloc_v4_qua_21_2 + aloc_v5_qui_21_2 + aloc_v6_seg_19_2 + aloc_v6_ter_19_2 + aloc_v6_qua_19_2 + aloc_v6_qui_19_2 + aloc_v7_seg_21_2 + aloc_v7_ter_21_2 + aloc_v7_qui_21_2 + aloc_v8_seg_21_2 + aloc_v9_seg_21_2 + aloc_v9_ter_21_2 + aloc_v9_qui_21_2 + aloc_v10_ter_21_2 + aloc_v10_qua_21_2 + aloc_v11_seg_21_2 + aloc_v11_ter_21_2 + aloc_v11_qua_21_2 + aloc_v11_qui_21_2 + aloc_v12_seg_21_2 + aloc_v12_ter_21_2 + aloc_v12_qua_21_2 + aloc_v12_qui_21_2 + aloc_v13_seg_21_2 + aloc_v13_qua_21_2 + aloc_v14_qua_21_2 + aloc_v15_seg_21_2 + aloc_v15_ter_21_2 + aloc_v15_qua_21_2 + aloc_v16_seg_21_2 + aloc_v16_ter_21_2 + aloc_v16_qua_21_2 + aloc_v30_seg_21_2 + aloc_v30_ter_21_2 + aloc_v30_qua_21_2 + aloc_v31_seg_21_2 + aloc_v31_ter_21_2 + aloc_v32_seg_19_2 + aloc_v32_ter_19_2 + aloc_v32_qua_19_2 + aloc_v32_qui_19_2 + aloc_v33_qua_21_2 + aloc_v33_qui_21_2 + aloc_v34_seg_19_2 + aloc_v34_ter_19_2 + aloc_v35_seg_21_2 + aloc_v35_ter_21_2 + aloc_v35_qua_21_2 + aloc_v35_qui_21_2 + aloc_v36_seg_21_2 + aloc_v36_qua_21_2 + aloc_v37_seg_21_2 + aloc_v37_qua_21_2 + aloc_v38_seg_21_2 + aloc_v38_ter_21_2 + aloc_v39_ter_21_2 + aloc_v39_qua_21_2 + aloc_v39_qui_21_2 + aloc_v40_seg_21_2 + aloc_v40_qua_21_2 + aloc_v40_qui_21_2 + aloc_v41_ter_21_2 + aloc_v41_qui_21_2 + aloc_v42_ter_21_2 + aloc_v42_qua_21_2 + aloc_v42_qui_21_2 == 1.0\n"
     ]
    }
   ],
   "source": [
    "\n",
    "\n",
    "# solving\n",
    "lp = cp.Problem(objective, constraints)\n",
    "\n",
    "print(lp)\n"
   ]
  },
  {
   "cell_type": "code",
   "execution_count": null,
   "id": "4e3ab6a9",
   "metadata": {},
   "outputs": [],
   "source": []
  },
  {
   "cell_type": "code",
   "execution_count": null,
   "id": "9b6d799a",
   "metadata": {},
   "outputs": [],
   "source": []
  },
  {
   "cell_type": "code",
   "execution_count": null,
   "id": "775ff261",
   "metadata": {},
   "outputs": [],
   "source": []
  },
  {
   "cell_type": "code",
   "execution_count": null,
   "id": "7f2781b9",
   "metadata": {},
   "outputs": [
    {
     "name": "stdout",
     "output_type": "stream",
     "text": [
      "['0', '1', '2', '3', '4', '5', '6', '7', '8', '9', '10', '11', '12', '13', '14', '15', '16', '30', '31', '32', '33', '34', '35', '36', '37', '38', '39', '40', '41', '42', '21', '22', '23', '24', '25', '26', '27', '28', '29']\n",
      "['17', '18', '19', '20', '30', '31', '32', '33', '34', '35', '36', '37', '38', '39', '40', '41', '42', '21', '22', '23', '24', '25', '26', '27', '28', '29']\n",
      "['17', '18', '19', '20', '0', '1', '2', '3', '4', '5', '6', '7', '8', '9', '10', '11', '12', '13', '14', '15', '16', '21', '22', '23', '24', '25', '26', '27', '28', '29']\n",
      "['17', '18', '19', '20', '0', '1', '2', '3', '4', '5', '6', '7', '8', '9', '10', '11', '12', '13', '14', '15', '16', '30', '31', '32', '33', '34', '35', '36', '37', '38', '39', '40', '41', '42']\n"
     ]
    }
   ],
   "source": [
    "for subject in subjects:\n",
    "    all_volunteers = set().union(*voluntiersBySubject.values())\n",
    "\n",
    "    # Remove indexes for excluded subject\n",
    "    # filtered_indexes = list(all_volunteers - set(subjectIndexes.get(subject, [])))\n",
    "    filtered_indexes = [\n",
    "    idx \n",
    "    for _subject in voluntiersBySubject \n",
    "    if _subject != subject \n",
    "    for idx in voluntiersBySubject[_subject]  # Keeps duplicates if they exist\n",
    "]\n",
    "    print(filtered_indexes)"
   ]
  },
  {
   "cell_type": "code",
   "execution_count": null,
   "id": "e3d2ca58",
   "metadata": {},
   "outputs": [],
   "source": []
  }
 ],
 "metadata": {
  "kernelspec": {
   "display_name": "ia525",
   "language": "python",
   "name": "ia525"
  },
  "language_info": {
   "codemirror_mode": {
    "name": "ipython",
    "version": 3
   },
   "file_extension": ".py",
   "mimetype": "text/x-python",
   "name": "python",
   "nbconvert_exporter": "python",
   "pygments_lexer": "ipython3",
   "version": "3.12.2"
  }
 },
 "nbformat": 4,
 "nbformat_minor": 5
}
