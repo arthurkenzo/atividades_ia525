{
 "cells": [
  {
   "cell_type": "markdown",
   "id": "26ca233c",
   "metadata": {},
   "source": [
    "Código disponível [na minha página do Github](https://github.com/arthurkenzo/atividades_ia525)"
   ]
  },
  {
   "cell_type": "code",
   "execution_count": 1,
   "id": "786af33d",
   "metadata": {},
   "outputs": [],
   "source": [
    "import cvxpy as cp\n",
    "import numpy as np\n",
    "import pandas as pd\n",
    "import mosek\n",
    "import matplotlib.pyplot as plt\n",
    "import matplotlib.cm as cm\n",
    "import time\n",
    "import networkx as nx\n",
    "import random\n",
    "\n",
    "\n",
    "from typing import Tuple\n",
    "from itertools import product"
   ]
  },
  {
   "cell_type": "markdown",
   "id": "3648b7f0",
   "metadata": {},
   "source": [
    "• As aulas do curso são realizadas de segunda-feira a quinta-feira, das 19h às 23h.\n",
    "\n",
    "• Duas turmas são conduzidas em paralelo ao longo do curso em cada ano.\n",
    "\n",
    "• Em cada turma, os horários são fixos: as aulas de cada disciplina ocorrem sempre no mesmo dia da semana\n",
    "para uma mesma turma. Note que turmas diferentes podem ter a mesma disciplina em dias diferentes.\n",
    "\n",
    "• Em cada turma, cada dia de aula está associado a uma das disciplinas do curso: matemática, português, quı́mica\n",
    "e fı́sica. Cada turma deve ter uma aula de cada disciplina.\n",
    "\n",
    "• Cada dia de aula está dividido em dois blocos: aula teórica (19h-21h) e aula de exercı́cios (21h-23h).\n",
    "\n",
    "• Os voluntários são selecionados por meio de processo especı́fico e são distribuı́dos em três papeis:\n",
    "– Professor de teoria: responsável pela aula teórica de cada disciplina.\n",
    "– Professor de exercı́cios: responsável pela aula de exercı́cios de cada disciplina.\n",
    "– Monitor: responsável por apoiar o professor de exercı́cios na sua aula.\n",
    "\n",
    "• A equipe de cada disciplina conta com dois professores de exercı́cios, dois professores de teoria e monitores\n",
    "que devem ser alocados nos horários e distribuı́dos entre as turmas. Para uma mesma disciplina, o número de\n",
    "monitores distribuı́dos entre as turmas deve ser aproximadamente igual. Cada turma fica com um professor de\n",
    "cada tipo.\n",
    "\n",
    "• A equipe de português é menor do que as demais. Assim, nas aulas de português, as duas turmas são unidas\n",
    "em uma sala. Neste caso, ambos os professores de teoria podem trabalhar como professor de exercı́cios ou\n",
    "monitor no segundo horário de aula. Nas demais disciplinas, cada voluntário atua em, no máximo, uma turma."
   ]
  },
  {
   "cell_type": "markdown",
   "id": "e2d08279",
   "metadata": {},
   "source": [
    "\\begin{align*}\n",
    "    \\text{Encontrar }   & \\sum_{ij} c_{ij}x_{ij}\\\\\n",
    "    \\text{sujeito a }   & \\sum_{i} x_{ij} = 1 \\quad \\forall  j  \\hspace{20pt} \\text{(Alocar apenas uma pessoa para cada tarefa)} \\\\\n",
    "                        & \\sum_{j} x_{ij} = 1 \\quad \\forall  i  \\hspace{20pt} \\text{(Alocar apenas uma tarefa para cada pessoa)} \\\\\n",
    "\n",
    "                        & x_{ij}\\in \\mathbb{B} \\quad \\forall  i,j  \\hspace{20pt} \\text{(Variáveis de decisão binárias)} \\\\\n",
    "\\end{align*}"
   ]
  },
  {
   "cell_type": "code",
   "execution_count": 2,
   "id": "041ffc0f",
   "metadata": {},
   "outputs": [
    {
     "name": "stdout",
     "output_type": "stream",
     "text": [
      "Pre-processed DataFrame:\n",
      "   area     cargo  seg19  seg21  ter19  ter21  qua19  qua21  qui19  qui21\n",
      "0  mat  P Teoria    0.0    1.0    0.0    1.0    1.0    0.0    1.0    0.0\n",
      "1  mat   Monitor    0.0    1.0    0.0    0.0    0.0    0.0    0.0    0.0\n",
      "2  mat   Monitor    0.0    1.0    0.0    1.0    0.0    0.0    1.0    0.0\n",
      "3  mat   Monitor    0.0    0.0    1.0    1.0    0.0    0.0    1.0    1.0\n",
      "4  mat   Monitor    0.0    0.0    0.0    0.0    1.0    1.0    0.0    0.0\n"
     ]
    }
   ],
   "source": [
    "# loading dataset into a pandas dataframe\n",
    "availab = pd.read_csv('dados_exato.csv')\n",
    "availab.fillna(0, inplace=True)\n",
    "availab.index = [f'{i}' for i in range(len(availab))]\n",
    "\n",
    "pd.set_option('display.expand_frame_repr', False) \n",
    "print(\"Pre-processed DataFrame:\\n\", availab.head())\n"
   ]
  },
  {
   "cell_type": "code",
   "execution_count": 3,
   "id": "a53933f6",
   "metadata": {},
   "outputs": [],
   "source": [
    "subjects = ['port', 'mat', 'fis', 'quim']\n",
    "days = ['seg', 'ter', 'qua', 'qui']\n",
    "shifts = ['19', '21']\n",
    "voluntiers = [f'{i}' for i in range(len(availab))]\n",
    "\n",
    "subjectIndexes = {}\n",
    "for subject in subjects:\n",
    "    subjectIndexes[subject] = availab[availab['area'] == subject].index.tolist()\n"
   ]
  },
  {
   "cell_type": "code",
   "execution_count": 4,
   "id": "befa0899",
   "metadata": {},
   "outputs": [
    {
     "name": "stdout",
     "output_type": "stream",
     "text": [
      "Variáveis geradas: 191\n"
     ]
    }
   ],
   "source": [
    "nbVars = 0\n",
    "# generate dictionary for indexing decision variables\n",
    "alocationVars = {}\n",
    "for voluntier in voluntiers:\n",
    "    alocationVars[voluntier] = {}\n",
    "    for day in days:\n",
    "        alocationVars[voluntier][day] = {}\n",
    "        for shift in shifts:\n",
    "            # generate variables only for feasible hours based on availability table\n",
    "            if availab.loc[voluntier, day+shift] == 1:\n",
    "                alocationVars[voluntier][day][shift] = cp.Variable(boolean=True, name=f'aloc_{voluntier}_{day}_{shift}')\n",
    "                nbVars += 1\n",
    "\n",
    "subjectIndicators = {}\n",
    "for subject in subjects:\n",
    "    subjectIndicators[subject] = {}\n",
    "    for day in days:\n",
    "        subjectIndicators[subject][day] = cp.Variable(boolean=True, name=f'indic_{subject}_{day}')\n",
    "\n",
    "print(f\"Variáveis geradas: {nbVars}\")\n"
   ]
  },
  {
   "cell_type": "code",
   "execution_count": 19,
   "id": "ebaecb4c",
   "metadata": {},
   "outputs": [
    {
     "ename": "TypeError",
     "evalue": "unsupported operand type(s) for +: 'int' and 'str'",
     "output_type": "error",
     "traceback": [
      "\u001b[31m---------------------------------------------------------------------------\u001b[39m",
      "\u001b[31mTypeError\u001b[39m                                 Traceback (most recent call last)",
      "\u001b[36mCell\u001b[39m\u001b[36m \u001b[39m\u001b[32mIn[19]\u001b[39m\u001b[32m, line 35\u001b[39m\n\u001b[32m     29\u001b[39m \u001b[38;5;28;01mfor\u001b[39;00m day \u001b[38;5;129;01min\u001b[39;00m days:\n\u001b[32m     31\u001b[39m     notAllowedVoluntiers = [index \u001b[38;5;28;01mfor\u001b[39;00m _subject \u001b[38;5;129;01min\u001b[39;00m subjectIndexes \n\u001b[32m     32\u001b[39m                             \u001b[38;5;28;01mif\u001b[39;00m _subject != subject \n\u001b[32m     33\u001b[39m                             \u001b[38;5;28;01mfor\u001b[39;00m index \u001b[38;5;129;01min\u001b[39;00m subjectIndexes[_subject] ]\n\u001b[32m---> \u001b[39m\u001b[32m35\u001b[39m     constraints += [subjectIndicators[subject][day] + \u001b[43mcp\u001b[49m\u001b[43m.\u001b[49m\u001b[43msum\u001b[49m\u001b[43m(\u001b[49m\u001b[43mnotAllowedVoluntiers\u001b[49m\u001b[43m)\u001b[49m == \u001b[32m1\u001b[39m]\n",
      "\u001b[36mFile \u001b[39m\u001b[32m~/venvs/ia525/lib/python3.12/site-packages/cvxpy/atoms/affine/sum.py:132\u001b[39m, in \u001b[36msum\u001b[39m\u001b[34m(expr, axis, keepdims)\u001b[39m\n\u001b[32m    128\u001b[39m \u001b[38;5;250m\u001b[39m\u001b[33;03m\"\"\"\u001b[39;00m\n\u001b[32m    129\u001b[39m \u001b[33;03mWrapper for Sum class.\u001b[39;00m\n\u001b[32m    130\u001b[39m \u001b[33;03m\"\"\"\u001b[39;00m\n\u001b[32m    131\u001b[39m \u001b[38;5;28;01mif\u001b[39;00m \u001b[38;5;28misinstance\u001b[39m(expr, \u001b[38;5;28mlist\u001b[39m):\n\u001b[32m--> \u001b[39m\u001b[32m132\u001b[39m     \u001b[38;5;28;01mreturn\u001b[39;00m \u001b[43mbuiltins\u001b[49m\u001b[43m.\u001b[49m\u001b[43msum\u001b[49m\u001b[43m(\u001b[49m\u001b[43mexpr\u001b[49m\u001b[43m)\u001b[49m\n\u001b[32m    133\u001b[39m \u001b[38;5;28;01melse\u001b[39;00m:\n\u001b[32m    134\u001b[39m     \u001b[38;5;28;01mreturn\u001b[39;00m Sum(expr, axis, keepdims)\n",
      "\u001b[31mTypeError\u001b[39m: unsupported operand type(s) for +: 'int' and 'str'"
     ]
    }
   ],
   "source": [
    "constraints = []\n",
    "\n",
    "# only one shift per voluntier\n",
    "for voluntier in voluntiers:\n",
    "    # list of all days and shifts where the current voluntier is available\n",
    "    shiftsAvailable = [alocationVars[voluntier][day][shift] \n",
    "                        for day in alocationVars.get(voluntier, {}) \n",
    "                        for shift in alocationVars[voluntier].get(day, {})]\n",
    "    if shiftsAvailable:\n",
    "        constraints += [cp.sum(shiftsAvailable) == 1]\n",
    "\n",
    "# only one voluntier per shift\n",
    "for day in days:\n",
    "    for shift in shifts:\n",
    "        # list of all voluntiers having a variable associated to the current day and shift\n",
    "        voluntiersAvailable = [alocationVars[voluntier][day][shift] \n",
    "                               for voluntier in alocationVars \n",
    "                               if day in alocationVars.get(voluntier, {})\n",
    "                                and shift in alocationVars[voluntier].get(day, {})]\n",
    "        if voluntiersAvailable:\n",
    "            constraints += [cp.sum(voluntiersAvailable) == 1]\n",
    "\n",
    "# only one subject per day\n",
    "for subject in subjects:\n",
    "    constraints += [cp.sum([subjectIndicators[subject][day] for day in days])]\n",
    "\n",
    "# alocate only voluntiers for the correct subject\n",
    "for subject in subjects:\n",
    "    for day in days:\n",
    "\n",
    "        notAllowedVoluntiers = [index for _subject in subjectIndexes \n",
    "                                if _subject != subject \n",
    "                                for index in subjectIndexes[_subject] ]\n",
    "        \n",
    "        constraints += [subjectIndicators[subject][day] + cp.sum(notAllowedVoluntiers) == 1]"
   ]
  },
  {
   "cell_type": "code",
   "execution_count": 17,
   "id": "7f2781b9",
   "metadata": {},
   "outputs": [
    {
     "name": "stdout",
     "output_type": "stream",
     "text": [
      "['0', '1', '2', '3', '4', '5', '6', '7', '8', '9', '10', '11', '12', '13', '14', '15', '16', '30', '31', '32', '33', '34', '35', '36', '37', '38', '39', '40', '41', '42', '21', '22', '23', '24', '25', '26', '27', '28', '29']\n",
      "['17', '18', '19', '20', '30', '31', '32', '33', '34', '35', '36', '37', '38', '39', '40', '41', '42', '21', '22', '23', '24', '25', '26', '27', '28', '29']\n",
      "['17', '18', '19', '20', '0', '1', '2', '3', '4', '5', '6', '7', '8', '9', '10', '11', '12', '13', '14', '15', '16', '21', '22', '23', '24', '25', '26', '27', '28', '29']\n",
      "['17', '18', '19', '20', '0', '1', '2', '3', '4', '5', '6', '7', '8', '9', '10', '11', '12', '13', '14', '15', '16', '30', '31', '32', '33', '34', '35', '36', '37', '38', '39', '40', '41', '42']\n"
     ]
    }
   ],
   "source": [
    "for subject in subjects:\n",
    "    all_volunteers = set().union(*subjectIndexes.values())\n",
    "\n",
    "    # Remove indexes for excluded subject\n",
    "    # filtered_indexes = list(all_volunteers - set(subjectIndexes.get(subject, [])))\n",
    "    filtered_indexes = [\n",
    "    idx \n",
    "    for _subject in subjectIndexes \n",
    "    if _subject != subject \n",
    "    for idx in subjectIndexes[_subject]  # Keeps duplicates if they exist\n",
    "]\n",
    "    print(filtered_indexes)"
   ]
  },
  {
   "cell_type": "code",
   "execution_count": null,
   "id": "e3d2ca58",
   "metadata": {},
   "outputs": [],
   "source": []
  }
 ],
 "metadata": {
  "kernelspec": {
   "display_name": "ia525",
   "language": "python",
   "name": "ia525"
  },
  "language_info": {
   "codemirror_mode": {
    "name": "ipython",
    "version": 3
   },
   "file_extension": ".py",
   "mimetype": "text/x-python",
   "name": "python",
   "nbconvert_exporter": "python",
   "pygments_lexer": "ipython3",
   "version": "3.12.2"
  }
 },
 "nbformat": 4,
 "nbformat_minor": 5
}
