{
 "cells": [
  {
   "cell_type": "markdown",
   "id": "1bf99d3d",
   "metadata": {},
   "source": [
    "Código disponível [na minha página do Github](https://github.com/arthurkenzo/atividades_ia525)"
   ]
  },
  {
   "cell_type": "code",
   "execution_count": null,
   "id": "1070335a",
   "metadata": {},
   "outputs": [],
   "source": [
    "import cvxpy as cp\n",
    "import numpy as np\n",
    "import mosek\n",
    "import matplotlib.pyplot as plt\n",
    "import time\n",
    "\n",
    "from typing import Tuple"
   ]
  },
  {
   "cell_type": "code",
   "execution_count": null,
   "id": "cfc16d6b",
   "metadata": {},
   "outputs": [],
   "source": []
  },
  {
   "cell_type": "code",
   "execution_count": null,
   "id": "2535d7ff",
   "metadata": {},
   "outputs": [],
   "source": []
  }
 ],
 "metadata": {
  "language_info": {
   "name": "python"
  }
 },
 "nbformat": 4,
 "nbformat_minor": 5
}
