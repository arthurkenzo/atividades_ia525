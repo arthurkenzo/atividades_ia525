{
 "cells": [
  {
   "cell_type": "code",
   "execution_count": null,
   "id": "658b1072",
   "metadata": {},
   "outputs": [],
   "source": [
    "import cvxpy as cp\n",
    "import numpy as np\n",
    "import pandas as pd\n",
    "import mosek\n",
    "import matplotlib.pyplot as plt\n",
    "import matplotlib.cm as cm\n",
    "import time\n",
    "import networkx as nx\n",
    "import random\n",
    "\n",
    "\n",
    "from typing import Tuple\n",
    "from itertools import product"
   ]
  },
  {
   "cell_type": "markdown",
   "id": "e3993f08",
   "metadata": {},
   "source": [
    "## Questão 1: Arranha-céus!\n",
    "\n",
    "### a)\n",
    "\n",
    "### b)\n",
    "\n",
    "### c)\n",
    "\n"
   ]
  },
  {
   "cell_type": "code",
   "execution_count": null,
   "id": "7f73df87",
   "metadata": {},
   "outputs": [],
   "source": []
  },
  {
   "cell_type": "markdown",
   "id": "4c5e9807",
   "metadata": {},
   "source": [
    "## Questão 2: Plantação de tomates!\n",
    "\n",
    "### a) Estratégia gulosa\n",
    "A estratégia gulosa funciona para o exemplo simples onde o jardim é dado por\n",
    "\n",
    "| 5 | 3 | 5 |\n",
    "\n",
    "Um contra exemplo à essa estratégia é o jardim \n",
    "\n",
    "| 3 | 5 | 3 |\n",
    "\n",
    "Nesse último caso, a estratégia gulosa nos dá uma delicioncisade total de 5, sendo que o ótimo é na realidade 6.\n",
    "\n",
    "### b)\n",
    "\n",
    "### c) Programa linear\n",
    "\n",
    "\\begin{align*}\n",
    "    \\text{Maximizar }   & \\sum_{i=1}^{n} T_i x_i \\hspace{20pt} \\text{(Deliciosidade total)}\\\\\n",
    "    \\text{sujeito a }   & \\; x_i + x_{i+1} = 1 \\quad \\forall i \\in \\{1,..., n-1\\}  \\hspace{20pt} \\text{(Não plantar dois tomates em casas adjacentes)} \\\\\n",
    "                        & x_{i}\\in \\mathbb{B} \\quad \\forall  i  \\hspace{20pt} \\text{(Variáveis de decisão binárias - plantar ou não plantar tomate em cada casa)} \\\\\n",
    "                        & T_{i}\\in \\mathbb{Z} \\quad \\forall  i  \\hspace{20pt} \\text{(Deliciosidades inteiras e positivas)} \\\\\n",
    "\\end{align*}\n",
    "\n",
    "### d)\n",
    "\n"
   ]
  },
  {
   "cell_type": "code",
   "execution_count": null,
   "id": "74dab05d",
   "metadata": {},
   "outputs": [],
   "source": []
  },
  {
   "cell_type": "markdown",
   "id": "635f8d4c",
   "metadata": {},
   "source": [
    "## Questão 3: Dois problemas fundamentais em grafos bipartidos\n",
    "\n",
    "### a)\n",
    "\n",
    "### b)\n",
    "\n",
    "### c)\n",
    "\n",
    "### d)\n",
    "\n"
   ]
  },
  {
   "cell_type": "code",
   "execution_count": null,
   "id": "26662d1f",
   "metadata": {},
   "outputs": [],
   "source": []
  },
  {
   "cell_type": "markdown",
   "id": "3d00c8a3",
   "metadata": {},
   "source": [
    "## Questão 4: O Princípio da Casa dos Pombos\n",
    "\n",
    "### a)\n",
    "\n",
    "### b)\n",
    "\n",
    "### c)\n",
    "\n"
   ]
  },
  {
   "cell_type": "code",
   "execution_count": null,
   "id": "5cf474ca",
   "metadata": {},
   "outputs": [],
   "source": []
  },
  {
   "cell_type": "markdown",
   "id": "268a2579",
   "metadata": {},
   "source": [
    "## Questão 5: Pudim, o pinguim comilão.\n",
    "\n",
    "### a)\n",
    "O problema só é factível se não houver algum segmento da viagem de comprimento maior de que $m$, a distância máxima que Pudim pode viajar sem comer. Mais formalmente, o problema é factível se\n",
    "\n",
    "$F_i - F_{i-1} \\leq m \\quad \\forall i \\in \\{ 2,...,n \\}$\n",
    "\n",
    "### b)\n",
    "\n",
    "\\begin{align*}\n",
    "    \\text{Minimizar }   & \\sum_{i=1}^{n} x_i \\hspace{20pt} \\text{(Total de paradas realizadas)}\\\\\n",
    "    \\text{sujeito a }   & \\; x_i + x_{i+1} = 1 \\quad \\forall i \\in \\{1,..., n-1\\}  \\hspace{20pt} \\text{(Não plantar dois tomates em casas adjacentes)} \\\\\n",
    "                        & x_{i}\\in \\mathbb{B} \\quad \\forall  i  \\hspace{20pt} \\text{(Variáveis de decisão binárias - parar ou não no buraco de pesca)} \\\\\n",
    "                        & F_{i}\\in \\mathbb{Z} \\quad \\forall  i  \\hspace{20pt} \\text{(Distâncias inteiras e positivas)} \\\\\n",
    "\\end{align*}\n",
    "\n",
    "### c)"
   ]
  },
  {
   "cell_type": "code",
   "execution_count": null,
   "id": "9cf0668d",
   "metadata": {},
   "outputs": [],
   "source": []
  }
 ],
 "metadata": {
  "kernelspec": {
   "display_name": "ia525",
   "language": "python",
   "name": "ia525"
  },
  "language_info": {
   "codemirror_mode": {
    "name": "ipython",
    "version": 3
   },
   "file_extension": ".py",
   "mimetype": "text/x-python",
   "name": "python",
   "nbconvert_exporter": "python",
   "pygments_lexer": "ipython3",
   "version": "3.12.2"
  }
 },
 "nbformat": 4,
 "nbformat_minor": 5
}
