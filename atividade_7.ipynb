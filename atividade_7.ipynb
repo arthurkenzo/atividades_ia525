{
 "cells": [
  {
   "cell_type": "markdown",
   "id": "4295b0d5",
   "metadata": {},
   "source": [
    "CódigraphTesto disponível [na minha página do Github](https://github.com/arthurkenzo/atividades_ia525)"
   ]
  },
  {
   "cell_type": "markdown",
   "id": "22865718",
   "metadata": {},
   "source": [
    "### Importando bibliotecas"
   ]
  },
  {
   "cell_type": "code",
   "execution_count": 3,
   "id": "653e41d9",
   "metadata": {},
   "outputs": [],
   "source": [
    "import cvxpy as cp\n",
    "import numpy as np\n",
    "import mosek\n",
    "import matplotlib.pyplot as plt\n",
    "import time\n",
    "import networkx as nx\n",
    "\n",
    "from typing import Tuple\n",
    "from itertools import product"
   ]
  },
  {
   "cell_type": "markdown",
   "id": "32f1cc4b",
   "metadata": {},
   "source": [
    "## Questão 1: Pintar o tabuleiro"
   ]
  },
  {
   "cell_type": "markdown",
   "id": "e224eb06",
   "metadata": {},
   "source": [
    "### Modelo"
   ]
  },
  {
   "cell_type": "code",
   "execution_count": null,
   "id": "9a467bff",
   "metadata": {},
   "outputs": [],
   "source": []
  },
  {
   "cell_type": "code",
   "execution_count": null,
   "id": "9b1f6f04",
   "metadata": {},
   "outputs": [],
   "source": []
  },
  {
   "cell_type": "markdown",
   "id": "7ce9ce74",
   "metadata": {},
   "source": [
    "## Questão 2: Sudoku"
   ]
  },
  {
   "cell_type": "markdown",
   "id": "434928d4",
   "metadata": {},
   "source": [
    "### Modelo:\n",
    "\n",
    "\\begin{align*}\n",
    "    \\text{Minimizar }   & ijk x_{ijk}\\\\\n",
    "    \\text{sujeito a }   & \\sum_{k} x_{ijk} = 1 \\quad \\forall  i,j  \\hspace{20pt} \\text{(Alocar apenas um número a cada casa)} \\\\\n",
    "                        & \\sum_{i} x_{ijk} = 1 \\quad \\forall  j,k  \\hspace{20pt} \\text{(Unicidade de cada número em cada coluna)} \\\\\n",
    "                        & \\sum_{j} x_{ijk} = 1 \\quad \\forall  i,k  \\hspace{20pt} \\text{(Unicidade de cada número em cada linha)} \\\\\n",
    "                        & \\sum_{p,p',q,q'} x_{(3p+q),(3p'+q'),k} = 1 \\quad \\forall  k;  \\quad p,p',q,q' \\in \\{0,1,2\\} \\hspace{20pt} \\text{(Unicidade de cada número em cada submatriz)} \\\\\n",
    "                        & x_{ijk} = 1 \\quad \\forall i,j,k: \\: \\text{board}(i,j) = k \\hspace{20pt} \\text{(Fixar valores do tabuleiro inicial)}\\\\\n",
    "                        & x_{ijk}\\in \\mathbb{B} \\quad \\forall  i,j,k  \\hspace{20pt} \\text{(Variáveis de decisão binárias)} \\\\\n",
    "\\end{align*}\n",
    "\n",
    "onde os índices $(i,j,k)$ que indexam as variáveis são números interios no intervalo $[0,8]$, e as variáveis de decisão $x_{ijk} \\in \\mathbb{B}$ são não nulas $\\iff$ $k$ for o número escolhido para a casa $(i,j)$ do tabuleiro.  Assumimos que o tabuleiro inicial é dado por uma matriz $\\text{board}$ cujas casas vazias são preenchidas com zero.\n",
    "\n",
    "Como o problema pode ser altamente degenerado (por se tratar de um problema de factibilidade), definimos um ordenamento arbitrário das soluções através da função objetivo."
   ]
  },
  {
   "cell_type": "code",
   "execution_count": 31,
   "id": "4961ed2b",
   "metadata": {},
   "outputs": [],
   "source": [
    "def SolveSudoku(board:np.ndarray) -> np.ndarray:\n",
    "    \"\"\" Solves a sudoku board by building and solving a linear program. \n",
    "\n",
    "    Args:\n",
    "        board (np.ndarray): An array with the initial board values. Empty cells are assumed to be zero-valued.\n",
    "\n",
    "    Returns:\n",
    "        np.ndarray: A 3d array containing the optimal values of the model's binary decision variables.\n",
    "    \"\"\"\n",
    "\n",
    "    boardSize = len(board[:,0])\n",
    "    submatrixSize = 3\n",
    "    digits = range(boardSize)\n",
    "    submatrices = range(submatrixSize)\n",
    "\n",
    "    # decision variables\n",
    "    decisionVars = np.empty((boardSize, boardSize, boardSize), dtype=object)\n",
    "    for i in digits:\n",
    "        for j in digits:\n",
    "            for k in digits:\n",
    "                decisionVars[i,j,k] = cp.Variable(boolean=True, name=f\"x_{i}{j}{k}\")\n",
    "\n",
    "    # constraints\n",
    "    constraints = []\n",
    "    # one single value per cell\n",
    "    for i in digits:\n",
    "        for j in digits:\n",
    "            constraints += [np.sum(decisionVars[i,j,:]) == 1]\n",
    "\n",
    "    # uniqueness in every column\n",
    "    for j in digits:\n",
    "        for k in digits:\n",
    "            constraints += [np.sum(decisionVars[:,j,k]) == 1]\n",
    "    \n",
    "    # uniqueness in every row\n",
    "    for i in digits:\n",
    "        for k in digits:\n",
    "            constraints += [np.sum(decisionVars[i,:,k]) == 1]\n",
    "\n",
    "    # uniqueness in every sub-matrix\n",
    "    for k in digits:\n",
    "        for blockRow in submatrices:\n",
    "            for blockCol in submatrices:\n",
    "                constraint_expr = cp.sum([decisionVars[3*blockRow + i, 3*blockCol + j, k]\n",
    "                                        for i in submatrices\n",
    "                                        for j in submatrices])\n",
    "                constraints.append(constraint_expr == 1)\n",
    "\n",
    "    # initial board values \n",
    "    for i in digits:\n",
    "        for j in digits:\n",
    "            boardValue = board[i,j]\n",
    "            if boardValue != 0:\n",
    "                constraints.append(decisionVars[i, j, board[i,j] - 1] == 1)\n",
    "\n",
    "    # building arbitrary objective function\n",
    "    objectiveExpression = cp.sum([i*j*k*decisionVars[i,j,k] \n",
    "                                  for i in digits \n",
    "                                  for j in digits \n",
    "                                  for k in digits])\n",
    "    objective = cp.Minimize(0)\n",
    "\n",
    "    lp = cp.Problem(objective, constraints)\n",
    "    lp.solve(solver=\"MOSEK\", verbose=False)\n",
    "\n",
    "    return decisionVars\n",
    "\n",
    "def DecodeSolution(decisionVars:np.ndarray) -> np.ndarray:\n",
    "    \"\"\" From a 3d array with binary variables representing a possible solution, build the corresponding 2d board.\n",
    "\n",
    "    Args:\n",
    "        decisionVars (np.ndarray): Binary decision variables representing a possible solution to a sudoku board.\n",
    "\n",
    "    Returns:\n",
    "        np.ndarray: Reconstructed sudoku board.\n",
    "    \"\"\"\n",
    "\n",
    "    boardSize = len(decisionVars[0,:,:])\n",
    "    digits = range(boardSize)\n",
    "\n",
    "    solution = np.zeros((boardSize, boardSize), dtype=int)\n",
    "    for i in digits:\n",
    "        for j in digits:\n",
    "            for k in digits:\n",
    "                if decisionVars[i, j, k].value > 0.5:\n",
    "                    solution[i, j] = k + 1\n",
    "                    break\n",
    "                \n",
    "    return solution\n",
    "\n",
    "def CheckSudoku(board):\n",
    "    # Check if all rows contain digits 1-9 without duplicates\n",
    "    for row in board:\n",
    "        if not isValidGroup(row):\n",
    "            return False\n",
    "\n",
    "    # Check if all columns contain digits 1-9 without duplicates\n",
    "    for col in range(9):\n",
    "        column = [board[row][col] for row in range(9)]\n",
    "        if not isValidGroup(column):\n",
    "            return False\n",
    "\n",
    "    # Check each 3x3 sub-box\n",
    "    for box_row in range(3):\n",
    "        for box_col in range(3):\n",
    "            block = []\n",
    "            for r in range(box_row * 3, box_row * 3 + 3):\n",
    "                for c in range(box_col * 3, box_col * 3 + 3):\n",
    "                    block.append(board[r][c])\n",
    "            if not isValidGroup(block):\n",
    "                return False\n",
    "\n",
    "    return True\n",
    "\n",
    "def isValidGroup(nums):\n",
    "    # Check if the group contains digits 1-9 exactly once\n",
    "    nums = [n for n in nums if n != 0]  # Ignore zeros if you want to allow incomplete boards\n",
    "    return len(nums) == 9 and set(nums) == set(range(1, 10))"
   ]
  },
  {
   "cell_type": "code",
   "execution_count": 32,
   "id": "c211711a",
   "metadata": {},
   "outputs": [
    {
     "name": "stdout",
     "output_type": "stream",
     "text": [
      "[[5 3 4 6 7 8 9 1 2]\n",
      " [6 7 2 1 9 5 3 4 8]\n",
      " [1 9 8 3 4 2 5 6 7]\n",
      " [8 5 9 7 6 1 4 2 3]\n",
      " [4 2 6 8 5 3 7 9 1]\n",
      " [7 1 3 9 2 4 8 5 6]\n",
      " [9 6 1 5 3 7 2 8 4]\n",
      " [2 8 7 4 1 9 6 3 5]\n",
      " [3 4 5 2 8 6 1 7 9]]\n",
      "Is the board correctly filled:  True\n"
     ]
    }
   ],
   "source": [
    "board = np.array([\n",
    "    [5, 3, 0, 0, 7, 0, 0, 0, 0],\n",
    "    [6, 0, 0, 1, 9, 5, 0, 0, 0],\n",
    "    [0, 9, 8, 0, 0, 0, 0, 6, 0],\n",
    "    [8, 0, 0, 0, 6, 0, 0, 0, 3],\n",
    "    [4, 0, 0, 8, 0, 3, 0, 0, 1],\n",
    "    [7, 0, 0, 0, 2, 0, 0, 0, 6],\n",
    "    [0, 6, 0, 0, 0, 0, 2, 8, 0],\n",
    "    [0, 0, 0, 4, 1, 9, 0, 0, 5],\n",
    "    [0, 0, 0, 0, 8, 0, 0, 7, 9]\n",
    "])\n",
    "\n",
    "solution = SolveSudoku(board)\n",
    "\n",
    "solution = DecodeSolution(solution)\n",
    "print(solution)\n",
    "print(\"Is the board correctly filled: \", CheckSudoku(solution))"
   ]
  },
  {
   "cell_type": "markdown",
   "id": "383eca01",
   "metadata": {},
   "source": [
    "## Questão 3: Senha"
   ]
  },
  {
   "cell_type": "code",
   "execution_count": null,
   "id": "dc3aad4f",
   "metadata": {},
   "outputs": [],
   "source": []
  },
  {
   "cell_type": "code",
   "execution_count": null,
   "id": "753d3218",
   "metadata": {},
   "outputs": [],
   "source": []
  },
  {
   "cell_type": "markdown",
   "id": "82e7c07b",
   "metadata": {},
   "source": [
    "## Questão 4: 8 rainhas"
   ]
  },
  {
   "cell_type": "code",
   "execution_count": null,
   "id": "04a1930f",
   "metadata": {},
   "outputs": [],
   "source": []
  },
  {
   "cell_type": "code",
   "execution_count": null,
   "id": "35ff599c",
   "metadata": {},
   "outputs": [],
   "source": []
  }
 ],
 "metadata": {
  "kernelspec": {
   "display_name": "ia525",
   "language": "python",
   "name": "ia525"
  },
  "language_info": {
   "codemirror_mode": {
    "name": "ipython",
    "version": 3
   },
   "file_extension": ".py",
   "mimetype": "text/x-python",
   "name": "python",
   "nbconvert_exporter": "python",
   "pygments_lexer": "ipython3",
   "version": "3.12.2"
  }
 },
 "nbformat": 4,
 "nbformat_minor": 5
}
