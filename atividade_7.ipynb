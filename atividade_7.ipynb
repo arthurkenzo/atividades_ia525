{
 "cells": [
  {
   "cell_type": "markdown",
   "id": "4295b0d5",
   "metadata": {},
   "source": [
    "CódigraphTesto disponível [na minha página do Github](https://github.com/arthurkenzo/atividades_ia525)"
   ]
  },
  {
   "cell_type": "markdown",
   "id": "22865718",
   "metadata": {},
   "source": [
    "### Importando bibliotecas"
   ]
  },
  {
   "cell_type": "code",
   "execution_count": null,
   "id": "653e41d9",
   "metadata": {},
   "outputs": [],
   "source": [
    "import cvxpy as cp\n",
    "import numpy as np\n",
    "import mosek\n",
    "import matplotlib.pyplot as plt\n",
    "import time\n",
    "import networkx as nx\n",
    "\n",
    "from typing import Tuple"
   ]
  },
  {
   "cell_type": "markdown",
   "id": "32f1cc4b",
   "metadata": {},
   "source": [
    "## Questão 1: Pintar o tabuleiro"
   ]
  },
  {
   "cell_type": "markdown",
   "id": "e224eb06",
   "metadata": {},
   "source": [
    "### Modelo"
   ]
  },
  {
   "cell_type": "code",
   "execution_count": null,
   "id": "9a467bff",
   "metadata": {},
   "outputs": [],
   "source": []
  },
  {
   "cell_type": "code",
   "execution_count": null,
   "id": "9b1f6f04",
   "metadata": {},
   "outputs": [],
   "source": []
  },
  {
   "cell_type": "markdown",
   "id": "7ce9ce74",
   "metadata": {},
   "source": [
    "## Questão 2: Sudoku"
   ]
  },
  {
   "cell_type": "markdown",
   "id": "434928d4",
   "metadata": {},
   "source": [
    "### Modelo:\n",
    "\n",
    "\\begin{align*}\n",
    "    \\text{Minimizar }   & ijk x_{ijk}\\\\\n",
    "    \\text{sujeito a }   & \\sum_{i} x_{ijk} = 1 \\quad \\forall  j,k  \\hspace{20pt} \\text{(Unicidade de cada número em cada coluna)} \\\\\n",
    "                        & \\sum_{j} x_{ijk} = 1 \\quad \\forall  i,k  \\hspace{20pt} \\text{(Unicidade de cada número em cada linha)} \\\\\n",
    "                        & \\sum_{p,p',q,q'} x_{(3p+q),(3p'+q'),k} = 1 \\quad \\forall  k;  \\quad p,p',q,q' \\in \\{0,1,2\\} \\hspace{20pt} \\text{(Unicidade de cada número em cada submatriz)} \\\\\n",
    "                        & x_{ijk}\\in \\mathbb{B} \\quad \\forall  i,j,k  \\hspace{20pt} \\text{(Variáveis de decisão binárias)} \\\\\n",
    "\\end{align*}\n",
    "\n",
    "onde os índices $(i,j,k)$ que indexam as variáveis são números interios no intervalo $[0,8]$, e as variáveis de decisão $x_{ijk} \\in \\mathbb{B}$ são não nulas $\\iff$ $k$ for o número escolhido para a casa $(i,j)$ do tabuleiro.  Como o problema pode ser altamente degenerado (por se tratar de um problema de factibilidade), definimos um ordenamento arbitrário das soluções através da função objetivo."
   ]
  },
  {
   "cell_type": "code",
   "execution_count": null,
   "id": "4961ed2b",
   "metadata": {},
   "outputs": [
    {
     "ename": "NameError",
     "evalue": "name 'np' is not defined",
     "output_type": "error",
     "traceback": [
      "\u001b[31m---------------------------------------------------------------------------\u001b[39m",
      "\u001b[31mNameError\u001b[39m                                 Traceback (most recent call last)",
      "\u001b[36mCell\u001b[39m\u001b[36m \u001b[39m\u001b[32mIn[1]\u001b[39m\u001b[32m, line 1\u001b[39m\n\u001b[32m----> \u001b[39m\u001b[32m1\u001b[39m \u001b[38;5;28;01mdef\u001b[39;00m\u001b[38;5;250m \u001b[39m\u001b[34mSolveSudoku\u001b[39m(board:\u001b[43mnp\u001b[49m.ndarray) -> np.ndarray:\n\u001b[32m      3\u001b[39m     \u001b[38;5;28mvars\u001b[39m = []\n\u001b[32m      4\u001b[39m     \u001b[38;5;28;01mfor\u001b[39;00m i \u001b[38;5;129;01min\u001b[39;00m \u001b[38;5;28mrange\u001b[39m(\u001b[32m8\u001b[39m):\n",
      "\u001b[31mNameError\u001b[39m: name 'np' is not defined"
     ]
    }
   ],
   "source": [
    "def SolveSudoku(board:np.ndarray) -> np.ndarray:\n",
    "\n",
    "    boardSize = 9\n",
    "\n",
    "    decisionVars = np.empty((boardSize, boardSize, boardSize), dtype=object)\n",
    "    for i in range(boardSize):\n",
    "        for j in range(boardSize):\n",
    "            for k in range(boardSize):\n",
    "                decisionVars[i,j,k] = cp.Variable(boolean=True, name=f\"x_{i}{j}{k}\")\n",
    "\n",
    "    constraints = []\n",
    "    for j in range(boardSize):\n",
    "        for k in range(boardSize):\n",
    "            constraints += [np.sum(decisionVars[:,j,k]) == 1]\n",
    "\n",
    "    constraints = []\n",
    "    for i in range(boardSize):\n",
    "        for k in range(boardSize):\n",
    "            constraints += [np.sum(decisionVars[i,:,k]) == 1]\n",
    "\n",
    "    objective = cp.Maximize( profitTable[:k].T @ cuts  )\n",
    "\n",
    "    lp = cp.Problem(objective, constraints)\n",
    "    lp.solve(solver=\"MOSEK\", verbose=False)\n",
    "\n",
    "    optimum = cuts.value.round(1)\n",
    "    optimum = optimum.tolist()\n",
    "    optimalValue = int(lp.value)\n",
    "\n",
    "    return optimum, optimalValue\n",
    "    return solution"
   ]
  },
  {
   "cell_type": "code",
   "execution_count": null,
   "id": "c211711a",
   "metadata": {},
   "outputs": [],
   "source": []
  },
  {
   "cell_type": "markdown",
   "id": "383eca01",
   "metadata": {},
   "source": [
    "## Questão 3: Senha"
   ]
  },
  {
   "cell_type": "code",
   "execution_count": null,
   "id": "dc3aad4f",
   "metadata": {},
   "outputs": [],
   "source": []
  },
  {
   "cell_type": "code",
   "execution_count": null,
   "id": "753d3218",
   "metadata": {},
   "outputs": [],
   "source": []
  },
  {
   "cell_type": "markdown",
   "id": "82e7c07b",
   "metadata": {},
   "source": [
    "## Questão 4: 8 rainhas"
   ]
  },
  {
   "cell_type": "code",
   "execution_count": null,
   "id": "04a1930f",
   "metadata": {},
   "outputs": [],
   "source": []
  },
  {
   "cell_type": "code",
   "execution_count": null,
   "id": "35ff599c",
   "metadata": {},
   "outputs": [],
   "source": []
  }
 ],
 "metadata": {
  "kernelspec": {
   "display_name": "ia525",
   "language": "python",
   "name": "ia525"
  },
  "language_info": {
   "codemirror_mode": {
    "name": "ipython",
    "version": 3
   },
   "file_extension": ".py",
   "mimetype": "text/x-python",
   "name": "python",
   "nbconvert_exporter": "python",
   "pygments_lexer": "ipython3",
   "version": "3.12.2"
  }
 },
 "nbformat": 4,
 "nbformat_minor": 5
}
