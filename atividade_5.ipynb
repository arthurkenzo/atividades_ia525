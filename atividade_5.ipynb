{
 "cells": [
  {
   "cell_type": "markdown",
   "id": "3d28d2ec",
   "metadata": {},
   "source": [
    "Código disponível [na minha página do Github](https://github.com/arthurkenzo/atividades_ia525)"
   ]
  },
  {
   "cell_type": "markdown",
   "id": "aa747caa",
   "metadata": {},
   "source": [
    "## Questão 1:\n",
    "\n",
    "Usaremos o conjunto de dados Iris para esse exercício, separando os conjuntos de treino e teste em 2/3 e 1/3 do total de amostras respectivamente. Devemos tomar cuidado para balancear a amostragem de forma a equilibrar a representação de cada classe de flor nos dois conjuntos."
   ]
  },
  {
   "cell_type": "markdown",
   "id": "a3e303aa",
   "metadata": {},
   "source": [
    "## Implementação:"
   ]
  },
  {
   "cell_type": "code",
   "execution_count": 293,
   "id": "e880fe9e",
   "metadata": {},
   "outputs": [],
   "source": [
    "import cvxpy as cp\n",
    "import numpy as np\n",
    "import mosek\n",
    "import matplotlib.pyplot as plt\n",
    "import time\n",
    "import networkx as nx\n",
    "import pandas as pd\n",
    "from sklearn.model_selection import train_test_split\n",
    "from sklearn.metrics import accuracy_score, confusion_matrix\n",
    "\n",
    "\n",
    "\n",
    "from typing import Tuple"
   ]
  },
  {
   "cell_type": "markdown",
   "id": "7b2722a5",
   "metadata": {},
   "source": [
    "### Pré-processamento dos dados"
   ]
  },
  {
   "cell_type": "code",
   "execution_count": 294,
   "id": "51fafe9b",
   "metadata": {},
   "outputs": [],
   "source": [
    "def GetIndicatorLabels(df:pd.DataFrame) -> pd.DataFrame:\n",
    "    \"\"\" Returns a dataframe where for each column i, the value of each entry is '+1' if the entry is in class i,\n",
    "        and '-1' if it isn't. Assumes labels are at the last column of the input DataFrame. \n",
    "\n",
    "    Returns:\n",
    "        pd.DataFrame: DataFrame containing label indicator variables for each label in the input  \n",
    "    \"\"\"\n",
    "    labels = df.iloc[:, -1] \n",
    "    indicatorLabels = pd.DataFrame({f\"class{label}\": df[4].apply(lambda x: 1 if x == label else -1) for label in labels})\n",
    "\n",
    "    return indicatorLabels"
   ]
  },
  {
   "cell_type": "code",
   "execution_count": null,
   "id": "65518ce6",
   "metadata": {},
   "outputs": [
    {
     "name": "stdout",
     "output_type": "stream",
     "text": [
      "Pre-processed DataFrame:\n",
      "      id    0    1    2    3  4  class0  class1  class2\n",
      "0     1  5.1  3.5  1.4  0.2  0       1      -1      -1\n",
      "1     1  4.9  3.0  1.4  0.2  0       1      -1      -1\n",
      "2     1  4.7  3.2  1.3  0.2  0       1      -1      -1\n",
      "3     1  4.6  3.1  1.5  0.2  0       1      -1      -1\n",
      "4     1  5.0  3.6  1.4  0.2  0       1      -1      -1\n",
      "..   ..  ...  ...  ...  ... ..     ...     ...     ...\n",
      "145   1  6.7  3.0  5.2  2.3  2      -1      -1       1\n",
      "146   1  6.3  2.5  5.0  1.9  2      -1      -1       1\n",
      "147   1  6.5  3.0  5.2  2.0  2      -1      -1       1\n",
      "148   1  6.2  3.4  5.4  2.3  2      -1      -1       1\n",
      "149   1  5.9  3.0  5.1  1.8  2      -1      -1       1\n",
      "\n",
      "[150 rows x 9 columns]\n"
     ]
    }
   ],
   "source": [
    "# loading dataset into a pandas dataframe\n",
    "df = pd.read_csv('iris.data', header=None)\n",
    "\n",
    "# adding a column of '1's to the features to model the linear coeficient\n",
    "df.insert(0, 'id', 1)\n",
    "\n",
    "# transform string labels into integer indexes\n",
    "df[4], _ = pd.factorize(df[4])\n",
    "\n",
    "# getting label indicator values for training each individual classifier\n",
    "labels = GetIndicatorLabels(df)\n",
    "df = pd.concat([df, labels], axis=1)\n",
    "\n",
    "print(\"Pre-processed DataFrame:\\n\", df)\n",
    "\n",
    "# Iris-setosa, Iris-versicolor, Iris-virginica"
   ]
  },
  {
   "cell_type": "markdown",
   "id": "3c0010f9",
   "metadata": {},
   "source": [
    "### Separando conjuntos de treino e teste com split 70/30\n",
    "\n",
    "O array de labels consiste em 4 colunas:\n",
    "- A primeira coluna contém o label da classe em forma de índice {0, 1, 2}.\n",
    "- As próximas três colunas contém variáveis indicatrizes de cada classe separadamente: +1 se o item pertence à classe da coluna, -1 se não pertence. "
   ]
  },
  {
   "cell_type": "code",
   "execution_count": null,
   "id": "13aac7c9",
   "metadata": {},
   "outputs": [],
   "source": [
    "# separating labels from the feature data\n",
    "totalSamples = len(df.values)\n",
    "nbSamplesTest = int(np.ceil(totalSamples*0.3))\n",
    "nbSamplesTrain = int(totalSamples - nbSamplesTest)\n",
    "\n",
    "nbFeatures = 5\n",
    "nbLabels = 3\n",
    "\n",
    "# creating balanced train and test sets.\n",
    "labels = df.iloc[:, -4:].values\n",
    "features = df.iloc[:, :5].values\n",
    "\n",
    "featureTrain, featureTest, labelTrain, labelTest = train_test_split(\n",
    "features, labels,\n",
    "test_size=nbSamplesTest,\n",
    "random_state=1,\n",
    "stratify=labels )"
   ]
  },
  {
   "cell_type": "markdown",
   "id": "dd0a9cd0",
   "metadata": {},
   "source": [
    "### Construindo classificadores com métodos de mínimos quadrados e SVM"
   ]
  },
  {
   "cell_type": "code",
   "execution_count": 297,
   "id": "cc581c44",
   "metadata": {},
   "outputs": [
    {
     "name": "stdout",
     "output_type": "stream",
     "text": [
      "Class 0 least squares classifier:\n",
      "Optimum:  8.381290581473772\n",
      "Linear separator coefficients: [-1.05605974  0.24528254  0.43073062 -0.52586281 -0.03619552] \n",
      "\n",
      "Class 0 SVM classifier:\n",
      "Optimum:  1.7180683264950147e-10\n",
      "Linear separator coefficients: [-0.19629453  0.26878485  0.68161222 -1.12816213 -0.20652067] \n",
      "\n",
      "Class 1 least squares classifier:\n",
      "Optimum:  66.93191285071592\n",
      "Linear separator coefficients: [ 3.26034302 -0.4632782  -0.68596998  0.66380024 -1.07848661] \n",
      "\n",
      "Class 1 SVM classifier:\n",
      "Optimum:  56.52518756704588\n",
      "Linear separator coefficients: [11.52304394 -1.95069668 -1.95069668  2.27224009 -3.25830654] \n",
      "\n",
      "Class 2 least squares classifier:\n",
      "Optimum:  35.27867606906163\n",
      "Linear separator coefficients: [-3.20428325  0.21799566  0.25523936 -0.13793744  1.11468212] \n",
      "\n",
      "Class 2 SVM classifier:\n",
      "Optimum:  5.23157894744486\n",
      "Linear separator coefficients: [-27.04210526  -1.05263158  -5.78947368   5.36842105  13.89473684] \n",
      "\n"
     ]
    }
   ],
   "source": [
    "# these arrays stores the coefficients for the linear separator of each single class classifier\n",
    "optimalCoefficientsLS = np.zeros((5, 3))\n",
    "optimalCoefficientsSVM = np.zeros((5, 3))\n",
    "\n",
    "\n",
    "for i in range(3):\n",
    "\n",
    "    # building the least squares problem and solving it for each single class classifier\n",
    "    aLS = cp.Variable(5)\n",
    "    objectiveLS = cp.Minimize(cp.sum_squares( labelTrain[:, i+1] - featureTrain @ aLS ))\n",
    "\n",
    "    problemLS = cp.Problem(objectiveLS)\n",
    "    problemLS.solve(solver=\"MOSEK\", verbose=False)\n",
    "\n",
    "    if problemLS.status == cp.OPTIMAL:\n",
    "        print(\"Class {} least squares classifier:\".format(i))\n",
    "        print(\"Optimum: \", problemLS.value)\n",
    "        print(\"Linear separator coefficients:\", aLS.value, \"\\n\")\n",
    "        optimalCoefficientsLS[:, i] = aLS.value\n",
    "\n",
    "\n",
    "    # building the SVM problem and solving it for each single class classifier\n",
    "    aSVM = cp.Variable(5)\n",
    "    auxMax = cp.Variable(nbSamplesTrain)\n",
    "    objectiveSVM = cp.Minimize(cp.sum(auxMax))\n",
    "\n",
    "    constraints = [ auxMax >= 0 ]\n",
    "    constraints += [ auxMax >= 1 - cp.multiply(labelTrain[:, i+1], (featureTrain @ aSVM)) ]\n",
    "\n",
    "    problemSVM = cp.Problem(objectiveSVM, constraints)\n",
    "    problemSVM.solve(solver=\"MOSEK\", verbose=False)\n",
    "\n",
    "    if problemSVM.status == cp.OPTIMAL:\n",
    "        print(\"Class {} SVM classifier:\".format(i))\n",
    "        print(\"Optimum: \", problemSVM.value)\n",
    "        print(\"Linear separator coefficients:\", aSVM.value, \"\\n\")\n",
    "        optimalCoefficientsSVM[:, i] = aSVM.value"
   ]
  },
  {
   "cell_type": "markdown",
   "id": "c1ba46c1",
   "metadata": {},
   "source": [
    "### Calculando previsões das classes do conjunto de teste"
   ]
  },
  {
   "cell_type": "code",
   "execution_count": 298,
   "id": "0a2c389a",
   "metadata": {},
   "outputs": [
    {
     "name": "stdout",
     "output_type": "stream",
     "text": [
      "Predicted indexes (least squares):\n",
      " [2 0 0 1 2 1 1 1 2 0 0 2 0 1 0 2 2 1 2 2 2 0 2 2 1 2 1 2 0 2 0 0 1 1 2 2 0\n",
      " 0 0 2 2 2 2 0 0]\n",
      "Predicted indexes (SVM):\n",
      " [2 0 0 1 0 1 2 1 2 0 0 2 0 1 0 1 2 1 1 2 2 0 0 2 1 1 1 2 0 2 0 0 1 1 2 2 0\n",
      " 0 0 0 2 2 1 0 0]\n"
     ]
    }
   ],
   "source": [
    "predictionLS = np.argmax(featureTest @ optimalCoefficientsLS, axis=1)\n",
    "predictionSVM = np.argmax(featureTest @ optimalCoefficientsSVM, axis=1)\n",
    "print(\"Predicted indexes (least squares):\\n\", predictionLS)\n",
    "print(\"Predicted indexes (SVM):\\n\", predictionSVM)"
   ]
  },
  {
   "cell_type": "markdown",
   "id": "915e68ce",
   "metadata": {},
   "source": [
    "### Calculando as acurácias e matrizes de confusão para os dois métodos"
   ]
  },
  {
   "cell_type": "code",
   "execution_count": 299,
   "id": "c002c6f9",
   "metadata": {},
   "outputs": [
    {
     "name": "stdout",
     "output_type": "stream",
     "text": [
      "Test Accuracy (least squares): 0.8\n",
      "Test Accuracy (SVM): 0.9111111111111111\n"
     ]
    }
   ],
   "source": [
    "accuracyLS = accuracy_score(labelTest[:, 0], predictionLS)\n",
    "accuracySVM = accuracy_score(labelTest[:, 0], predictionSVM)\n",
    "print(\"Test Accuracy (least squares):\", accuracyLS)\n",
    "print(\"Test Accuracy (SVM):\", accuracySVM)"
   ]
  },
  {
   "cell_type": "code",
   "execution_count": 300,
   "id": "87595457",
   "metadata": {},
   "outputs": [
    {
     "name": "stdout",
     "output_type": "stream",
     "text": [
      "Confusion matrix (least squares):\n",
      " [[15  0  0]\n",
      " [ 0  8  7]\n",
      " [ 0  2 13]]\n",
      "Confusion matrix (SVM):\n",
      " [[15  0  0]\n",
      " [ 3 12  0]\n",
      " [ 0  1 14]]\n"
     ]
    }
   ],
   "source": [
    "accuracyLS = confusion_matrix(labelTest[:, 0], predictionLS)\n",
    "accuracySVM = confusion_matrix(labelTest[:, 0], predictionSVM)\n",
    "print(\"Confusion matrix (least squares):\\n\", accuracyLS)\n",
    "print(\"Confusion matrix (SVM):\\n\", accuracySVM)\n"
   ]
  },
  {
   "cell_type": "markdown",
   "id": "1b4a8614",
   "metadata": {},
   "source": [
    "### Breve análise das performances dos dois classificadores"
   ]
  },
  {
   "cell_type": "markdown",
   "id": "f597dccc",
   "metadata": {},
   "source": [
    "Vemos à partir dos experimentos anteriores que o classificador baseado em SVM teve uma acurácia maior no conjunto de teste, obtendo resultados mais precisos para todas as três classes de flores. No entanto, podemos observar aqui a diferença de um classificador \"duro\" (mínimos quadrados) de um utilizando soft margin (SVM). \n",
    "\n",
    "O primeiro classificador conseguiu separar com 100% de precisão todos os itens pertencentes à primeira classe de flor (_iris-setosa_), sendo um indício de que, ao menos nos dados diponíveis, essa espécie de planta é linearmente separável das outras duas (se não me engano isso realmente é o caso para o conjunto Iris). No entanto, a sua performance na separação das outras duas classes foi menor do que a do classficador com soft margin, como pode-se observar das matrizes de confusão. \n",
    "\n",
    "Isso se deve ao fato de que as duas outras classes de flor (_iris-versicolor_, _iris-virginica_) não são linearmente separáveis, havendo sobreposição das \"áreas\" ocupadas por cada classe no espaço de atributos. Isso pode ser ilustrado pelos plots a seguir, onde vemos as relações entre dois pares de atributos diferentes. Em ambos os casos (e na verdade em todos os outros possíveis pares de atributos), os elementos de _iris-setosa_ se encontram bem separados dos outros, enquanto as outras duas espécies não são separáveis por uma simples reta nos plots. \n",
    "\n",
    "Isso torna o uso de um classificador com soft margin mais interessante, pois permite uma maior flexibilidade na definição do separador linear entre as duas classes com sobreposição. O lado negativo disso, no entanto, é o fato disso permitir maiores erros de classificação envolvendo a classe linearmente separável, visto por exemplo no item (2,1) da matriz de confusão do SVM. Aqui, os benefícios da classificação melhorada entre _iris-versicolor_ e _iris-virginica_ compensam a perda de precisão na _iris-setosa_, e o SVM acaba ficando com precisão global significativamente melhor que o classificador por mínimos quadrados."
   ]
  },
  {
   "cell_type": "code",
   "execution_count": 301,
   "id": "c0718eff",
   "metadata": {},
   "outputs": [
    {
     "data": {
      "image/png": "[encoded data removed]",
      "text/plain": [
       "<Figure size 1200x400 with 2 Axes>"
      ]
     },
     "metadata": {},
     "output_type": "display_data"
    }
   ],
   "source": [
    "# class color mapping\n",
    "labels = df[4].values  \n",
    "label_colors = {0: 'red', 1: 'green', 2: 'blue'}\n",
    "label_names = {0: 'Setosa', 1: 'Versicolor', 2: 'Virginica'}\n",
    "featureNames = {0: 'Sepal length', 1: 'Sepal width', 2: 'Petal length', 3: 'Petal width'}\n",
    "\n",
    "# two different plots ilustrating relationships between features\n",
    "fig, axes = plt.subplots(1, 2, figsize=(12, 4), sharey=False)\n",
    "\n",
    "# first plot\n",
    "x = df[1].values\n",
    "y = df[3].values\n",
    "for label in np.unique(labels):\n",
    "    axes[0].scatter(\n",
    "        x[labels == label],\n",
    "        y[labels == label],\n",
    "        color=label_colors[label],\n",
    "        label=label_names[label]\n",
    "    )\n",
    "axes[0].set_title(\"Sepal width x Petal width\")\n",
    "axes[0].set_xlabel(\"Sepal width\")\n",
    "axes[0].set_ylabel(\"Petal width\")\n",
    "axes[0].legend()\n",
    "axes[0].grid(True)\n",
    "\n",
    "# second plot\n",
    "x = df[0].values\n",
    "y = df[2].values\n",
    "\n",
    "for label in np.unique(labels):\n",
    "    axes[1].scatter(\n",
    "        x[labels == label],\n",
    "        y[labels == label],\n",
    "        color=label_colors[label],\n",
    "        label=label_names[label]\n",
    "    )\n",
    "axes[1].set_title(\"Sepal length x Petal length\")\n",
    "axes[1].set_xlabel(\"Sepal length\")\n",
    "axes[1].set_ylabel(\"Petal length\")\n",
    "axes[1].legend()\n",
    "axes[1].grid(True)\n",
    "\n",
    "plt.tight_layout()\n",
    "plt.show()"
   ]
  },
  {
   "cell_type": "code",
   "execution_count": null,
   "id": "976a7e18",
   "metadata": {},
   "outputs": [],
   "source": []
  }
 ],
 "metadata": {
  "kernelspec": {
   "display_name": "ia525",
   "language": "python",
   "name": "ia525"
  },
  "language_info": {
   "codemirror_mode": {
    "name": "ipython",
    "version": 3
   },
   "file_extension": ".py",
   "mimetype": "text/x-python",
   "name": "python",
   "nbconvert_exporter": "python",
   "pygments_lexer": "ipython3",
   "version": "3.12.2"
  }
 },
 "nbformat": 4,
 "nbformat_minor": 5
}
